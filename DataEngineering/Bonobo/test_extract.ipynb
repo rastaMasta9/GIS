{
 "cells": [
  {
   "cell_type": "code",
   "execution_count": 1,
   "metadata": {},
   "outputs": [],
   "source": [
    "import bonobo\n",
    "import json\n",
    "import requests\n",
    "import geopandas as gpd\n",
    "import pandas as pd"
   ]
  },
  {
   "cell_type": "code",
   "execution_count": 2,
   "metadata": {},
   "outputs": [],
   "source": [
    "# Create transformations\n",
    "def extract():\n",
    "    import requests\n",
    "    import json\n",
    "    \n",
    "    # Extract from National Park API\n",
    "    apikey = 'GMs4xrz7WjDCKhiknJtfa6APYdwHawcca4sf6uWE'\n",
    "\n",
    "    # End point for campgrounds in RockyMountain National Park\n",
    "    api_url = 'https://developer.nps.gov/api/v1/campgrounds?'\n",
    "\n",
    "    req = requests.get(api_url, params={\n",
    "        'api_key': apikey, \n",
    "        'stateCode': '08',\n",
    "        'parkCode': 'romo',\n",
    "        'limit': 10\n",
    "        }\n",
    "    )\n",
    "\n",
    "    # datastored in a list object where each campground is a dictionary\n",
    "    res = req.json().get('data')\n",
    "\n",
    "    return res\n"
   ]
  },
  {
   "cell_type": "code",
   "execution_count": 28,
   "metadata": {},
   "outputs": [],
   "source": [
    "res = extract()\n",
    "df = transform(res)\n",
    "load(df)"
   ]
  },
  {
   "cell_type": "code",
   "execution_count": 24,
   "metadata": {},
   "outputs": [],
   "source": [
    "def transform(res):\n",
    "    # Transform Data into geodataframe\n",
    "    cg = pd.DataFrame()\n",
    "    ls = []\n",
    "    for r in res:\n",
    "        data = [r['name'], r['latitude'], r['longitude']]\n",
    "        ls.append(data)\n",
    "    df = pd.DataFrame(ls, columns=['Campground', 'Lat', 'Long'])\n",
    "   \n",
    "    # Create geodataframe from lat/long columns\n",
    "    cg = gpd.GeoDataFrame(df, geometry=gpd.points_from_xy(df['Long'], df['Lat']), crs=4326)\n",
    "\n",
    "    # Reproject to Web Mercator for use in web map\n",
    "    cg = cg.to_crs(3857)\n",
    "    cg = cg[['Campground', 'geometry']]\n",
    "\n",
    "    return cg\n",
    "        "
   ]
  },
  {
   "cell_type": "code",
   "execution_count": null,
   "metadata": {},
   "outputs": [],
   "source": [
    "cg = pd.concat([cg, df], ignore_index=True)\n",
    "\n",
    "    # Create geodataframe from lat/long columns\n",
    "    cg = gpd.GeoDataFrame(cg, geometry=gpd.points_from_xy(cg['Long'], cg['Lat']), crs=4326)\n",
    "\n",
    "    # Reproject to Web Mercator for use in web map\n",
    "    cg = cg.to_crs(3857)\n",
    "    cg = cg[['Campground', 'geometry']]\n",
    "\n",
    "    return cg"
   ]
  },
  {
   "cell_type": "code",
   "execution_count": 27,
   "metadata": {},
   "outputs": [],
   "source": [
    "# Load/Write to File\n",
    "def load(cg):\n",
    "    return cg.to_file('RockyMountain_Campgrounds.shp')\n"
   ]
  },
  {
   "cell_type": "code",
   "execution_count": 23,
   "metadata": {},
   "outputs": [
    {
     "ename": "AttributeError",
     "evalue": "'DataFrame' object has no attribute 'to_file'",
     "output_type": "error",
     "traceback": [
      "\u001b[1;31m---------------------------------------------------------------------------\u001b[0m",
      "\u001b[1;31mAttributeError\u001b[0m                            Traceback (most recent call last)",
      "Cell \u001b[1;32mIn [23], line 1\u001b[0m\n\u001b[1;32m----> 1\u001b[0m \u001b[43mload\u001b[49m\u001b[43m(\u001b[49m\u001b[43mdf\u001b[49m\u001b[43m)\u001b[49m\n",
      "Cell \u001b[1;32mIn [22], line 3\u001b[0m, in \u001b[0;36mload\u001b[1;34m(cg)\u001b[0m\n\u001b[0;32m      2\u001b[0m \u001b[38;5;28;01mdef\u001b[39;00m \u001b[38;5;21mload\u001b[39m(cg):\n\u001b[1;32m----> 3\u001b[0m     \u001b[38;5;28;01mreturn\u001b[39;00m \u001b[43mcg\u001b[49m\u001b[38;5;241;43m.\u001b[39;49m\u001b[43mto_file\u001b[49m(\u001b[38;5;124m'\u001b[39m\u001b[38;5;124mRockyMountain_Campgrounds.shp\u001b[39m\u001b[38;5;124m'\u001b[39m)\n",
      "File \u001b[1;32mD:\\mini-forge\\envs\\de\\lib\\site-packages\\pandas\\core\\generic.py:5902\u001b[0m, in \u001b[0;36mNDFrame.__getattr__\u001b[1;34m(self, name)\u001b[0m\n\u001b[0;32m   5895\u001b[0m \u001b[38;5;28;01mif\u001b[39;00m (\n\u001b[0;32m   5896\u001b[0m     name \u001b[38;5;129;01mnot\u001b[39;00m \u001b[38;5;129;01min\u001b[39;00m \u001b[38;5;28mself\u001b[39m\u001b[38;5;241m.\u001b[39m_internal_names_set\n\u001b[0;32m   5897\u001b[0m     \u001b[38;5;129;01mand\u001b[39;00m name \u001b[38;5;129;01mnot\u001b[39;00m \u001b[38;5;129;01min\u001b[39;00m \u001b[38;5;28mself\u001b[39m\u001b[38;5;241m.\u001b[39m_metadata\n\u001b[0;32m   5898\u001b[0m     \u001b[38;5;129;01mand\u001b[39;00m name \u001b[38;5;129;01mnot\u001b[39;00m \u001b[38;5;129;01min\u001b[39;00m \u001b[38;5;28mself\u001b[39m\u001b[38;5;241m.\u001b[39m_accessors\n\u001b[0;32m   5899\u001b[0m     \u001b[38;5;129;01mand\u001b[39;00m \u001b[38;5;28mself\u001b[39m\u001b[38;5;241m.\u001b[39m_info_axis\u001b[38;5;241m.\u001b[39m_can_hold_identifiers_and_holds_name(name)\n\u001b[0;32m   5900\u001b[0m ):\n\u001b[0;32m   5901\u001b[0m     \u001b[38;5;28;01mreturn\u001b[39;00m \u001b[38;5;28mself\u001b[39m[name]\n\u001b[1;32m-> 5902\u001b[0m \u001b[38;5;28;01mreturn\u001b[39;00m \u001b[38;5;28;43mobject\u001b[39;49m\u001b[38;5;241;43m.\u001b[39;49m\u001b[38;5;21;43m__getattribute__\u001b[39;49m\u001b[43m(\u001b[49m\u001b[38;5;28;43mself\u001b[39;49m\u001b[43m,\u001b[49m\u001b[43m \u001b[49m\u001b[43mname\u001b[49m\u001b[43m)\u001b[49m\n",
      "\u001b[1;31mAttributeError\u001b[0m: 'DataFrame' object has no attribute 'to_file'"
     ]
    }
   ],
   "source": [
    "load(df)"
   ]
  },
  {
   "cell_type": "code",
   "execution_count": null,
   "metadata": {},
   "outputs": [],
   "source": []
  }
 ],
 "metadata": {
  "interpreter": {
   "hash": "efe048292a66c3deb5ff273629d992ce0e883ad57305593912fdaf95024f6be6"
  },
  "kernelspec": {
   "display_name": "Python 3.11.0",
   "language": "python",
   "name": "python3"
  },
  "language_info": {
   "codemirror_mode": {
    "name": "ipython",
    "version": 3
   },
   "file_extension": ".py",
   "mimetype": "text/x-python",
   "name": "python",
   "nbconvert_exporter": "python",
   "pygments_lexer": "ipython3",
   "version": "3.9.13"
  },
  "orig_nbformat": 4
 },
 "nbformat": 4,
 "nbformat_minor": 2
}
