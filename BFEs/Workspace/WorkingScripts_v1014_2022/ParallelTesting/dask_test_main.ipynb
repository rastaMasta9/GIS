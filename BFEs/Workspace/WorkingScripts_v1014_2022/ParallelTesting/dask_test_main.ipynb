{
 "cells": [
  {
   "cell_type": "markdown",
   "metadata": {},
   "source": [
    "Reconfiguring Source to parallelize into dask geodataframes. Currently Testing the Flood ZOne split and BFE cleaning process. Many of the \n",
    "functions may not work in a dask df. more research is required. however, if this works, this will be 10x faster than using conventional \n",
    "geodataframes. \n",
    "\n",
    "global structure of iterating through County GDBs should mimic final structure once \"CO_Merging_Scaleup_A\" is finalized. "
   ]
  },
  {
   "cell_type": "code",
   "execution_count": 1,
   "metadata": {},
   "outputs": [],
   "source": [
    "import dask.dataframe as d\n",
    "import dask_geopandas as dd\n",
    "import glob\n",
    "from new_methods import *"
   ]
  },
  {
   "cell_type": "code",
   "execution_count": 24,
   "metadata": {},
   "outputs": [
    {
     "name": "stdout",
     "output_type": "stream",
     "text": [
      "Merge All County Flood Zones\n",
      "Merge All County BFEs\n",
      "Clean BFEs\n",
      "Cleaning BFEs...\n"
     ]
    },
    {
     "ename": "ValueError",
     "evalue": "Unknown column new_geom",
     "output_type": "error",
     "traceback": [
      "\u001b[1;31m---------------------------------------------------------------------------\u001b[0m",
      "\u001b[1;31mKeyError\u001b[0m                                  Traceback (most recent call last)",
      "File \u001b[1;32mD:\\mini-forge\\envs\\geopandas\\lib\\site-packages\\pandas\\core\\indexes\\base.py:3621\u001b[0m, in \u001b[0;36mIndex.get_loc\u001b[1;34m(self, key, method, tolerance)\u001b[0m\n\u001b[0;32m   3620\u001b[0m \u001b[38;5;28;01mtry\u001b[39;00m:\n\u001b[1;32m-> 3621\u001b[0m     \u001b[38;5;28;01mreturn\u001b[39;00m \u001b[38;5;28;43mself\u001b[39;49m\u001b[38;5;241;43m.\u001b[39;49m\u001b[43m_engine\u001b[49m\u001b[38;5;241;43m.\u001b[39;49m\u001b[43mget_loc\u001b[49m\u001b[43m(\u001b[49m\u001b[43mcasted_key\u001b[49m\u001b[43m)\u001b[49m\n\u001b[0;32m   3622\u001b[0m \u001b[38;5;28;01mexcept\u001b[39;00m \u001b[38;5;167;01mKeyError\u001b[39;00m \u001b[38;5;28;01mas\u001b[39;00m err:\n",
      "File \u001b[1;32mD:\\mini-forge\\envs\\geopandas\\lib\\site-packages\\pandas\\_libs\\index.pyx:136\u001b[0m, in \u001b[0;36mpandas._libs.index.IndexEngine.get_loc\u001b[1;34m()\u001b[0m\n",
      "File \u001b[1;32mD:\\mini-forge\\envs\\geopandas\\lib\\site-packages\\pandas\\_libs\\index.pyx:163\u001b[0m, in \u001b[0;36mpandas._libs.index.IndexEngine.get_loc\u001b[1;34m()\u001b[0m\n",
      "File \u001b[1;32mpandas\\_libs\\hashtable_class_helper.pxi:5198\u001b[0m, in \u001b[0;36mpandas._libs.hashtable.PyObjectHashTable.get_item\u001b[1;34m()\u001b[0m\n",
      "File \u001b[1;32mpandas\\_libs\\hashtable_class_helper.pxi:5206\u001b[0m, in \u001b[0;36mpandas._libs.hashtable.PyObjectHashTable.get_item\u001b[1;34m()\u001b[0m\n",
      "\u001b[1;31mKeyError\u001b[0m: 'new_geom'",
      "\nThe above exception was the direct cause of the following exception:\n",
      "\u001b[1;31mKeyError\u001b[0m                                  Traceback (most recent call last)",
      "File \u001b[1;32mD:\\mini-forge\\envs\\geopandas\\lib\\site-packages\\geopandas\\geodataframe.py:318\u001b[0m, in \u001b[0;36mGeoDataFrame.set_geometry\u001b[1;34m(self, col, drop, inplace, crs)\u001b[0m\n\u001b[0;32m    317\u001b[0m \u001b[38;5;28;01mtry\u001b[39;00m:\n\u001b[1;32m--> 318\u001b[0m     level \u001b[38;5;241m=\u001b[39m \u001b[43mframe\u001b[49m\u001b[43m[\u001b[49m\u001b[43mcol\u001b[49m\u001b[43m]\u001b[49m\n\u001b[0;32m    319\u001b[0m \u001b[38;5;28;01mexcept\u001b[39;00m \u001b[38;5;167;01mKeyError\u001b[39;00m:\n",
      "File \u001b[1;32mD:\\mini-forge\\envs\\geopandas\\lib\\site-packages\\geopandas\\geodataframe.py:1428\u001b[0m, in \u001b[0;36mGeoDataFrame.__getitem__\u001b[1;34m(self, key)\u001b[0m\n\u001b[0;32m   1423\u001b[0m \u001b[38;5;124;03m\"\"\"\u001b[39;00m\n\u001b[0;32m   1424\u001b[0m \u001b[38;5;124;03mIf the result is a column containing only 'geometry', return a\u001b[39;00m\n\u001b[0;32m   1425\u001b[0m \u001b[38;5;124;03mGeoSeries. If it's a DataFrame with any columns of GeometryDtype,\u001b[39;00m\n\u001b[0;32m   1426\u001b[0m \u001b[38;5;124;03mreturn a GeoDataFrame.\u001b[39;00m\n\u001b[0;32m   1427\u001b[0m \u001b[38;5;124;03m\"\"\"\u001b[39;00m\n\u001b[1;32m-> 1428\u001b[0m result \u001b[38;5;241m=\u001b[39m \u001b[38;5;28;43msuper\u001b[39;49m\u001b[43m(\u001b[49m\u001b[43m)\u001b[49m\u001b[38;5;241;43m.\u001b[39;49m\u001b[38;5;21;43m__getitem__\u001b[39;49m\u001b[43m(\u001b[49m\u001b[43mkey\u001b[49m\u001b[43m)\u001b[49m\n\u001b[0;32m   1429\u001b[0m geo_col \u001b[38;5;241m=\u001b[39m \u001b[38;5;28mself\u001b[39m\u001b[38;5;241m.\u001b[39m_geometry_column_name\n",
      "File \u001b[1;32mD:\\mini-forge\\envs\\geopandas\\lib\\site-packages\\pandas\\core\\frame.py:3505\u001b[0m, in \u001b[0;36mDataFrame.__getitem__\u001b[1;34m(self, key)\u001b[0m\n\u001b[0;32m   3504\u001b[0m     \u001b[38;5;28;01mreturn\u001b[39;00m \u001b[38;5;28mself\u001b[39m\u001b[38;5;241m.\u001b[39m_getitem_multilevel(key)\n\u001b[1;32m-> 3505\u001b[0m indexer \u001b[38;5;241m=\u001b[39m \u001b[38;5;28;43mself\u001b[39;49m\u001b[38;5;241;43m.\u001b[39;49m\u001b[43mcolumns\u001b[49m\u001b[38;5;241;43m.\u001b[39;49m\u001b[43mget_loc\u001b[49m\u001b[43m(\u001b[49m\u001b[43mkey\u001b[49m\u001b[43m)\u001b[49m\n\u001b[0;32m   3506\u001b[0m \u001b[38;5;28;01mif\u001b[39;00m is_integer(indexer):\n",
      "File \u001b[1;32mD:\\mini-forge\\envs\\geopandas\\lib\\site-packages\\pandas\\core\\indexes\\base.py:3623\u001b[0m, in \u001b[0;36mIndex.get_loc\u001b[1;34m(self, key, method, tolerance)\u001b[0m\n\u001b[0;32m   3622\u001b[0m \u001b[38;5;28;01mexcept\u001b[39;00m \u001b[38;5;167;01mKeyError\u001b[39;00m \u001b[38;5;28;01mas\u001b[39;00m err:\n\u001b[1;32m-> 3623\u001b[0m     \u001b[38;5;28;01mraise\u001b[39;00m \u001b[38;5;167;01mKeyError\u001b[39;00m(key) \u001b[38;5;28;01mfrom\u001b[39;00m \u001b[38;5;21;01merr\u001b[39;00m\n\u001b[0;32m   3624\u001b[0m \u001b[38;5;28;01mexcept\u001b[39;00m \u001b[38;5;167;01mTypeError\u001b[39;00m:\n\u001b[0;32m   3625\u001b[0m     \u001b[38;5;66;03m# If we have a listlike key, _check_indexing_error will raise\u001b[39;00m\n\u001b[0;32m   3626\u001b[0m     \u001b[38;5;66;03m#  InvalidIndexError. Otherwise we fall through and re-raise\u001b[39;00m\n\u001b[0;32m   3627\u001b[0m     \u001b[38;5;66;03m#  the TypeError.\u001b[39;00m\n",
      "\u001b[1;31mKeyError\u001b[0m: 'new_geom'",
      "\nDuring handling of the above exception, another exception occurred:\n",
      "\u001b[1;31mValueError\u001b[0m                                Traceback (most recent call last)",
      "Input \u001b[1;32mIn [24]\u001b[0m, in \u001b[0;36m<cell line: 2>\u001b[1;34m()\u001b[0m\n\u001b[0;32m     72\u001b[0m fix_gpd \u001b[38;5;241m=\u001b[39m fix_gpd\u001b[38;5;241m.\u001b[39mset_geometry(\u001b[38;5;124m'\u001b[39m\u001b[38;5;124mnew_geom\u001b[39m\u001b[38;5;124m'\u001b[39m)\n\u001b[0;32m     73\u001b[0m fix_gpd \u001b[38;5;241m=\u001b[39m fix_gpd\u001b[38;5;241m.\u001b[39mrename(columns\u001b[38;5;241m=\u001b[39m{\u001b[38;5;124m'\u001b[39m\u001b[38;5;124mindex_x\u001b[39m\u001b[38;5;124m'\u001b[39m: \u001b[38;5;124m'\u001b[39m\u001b[38;5;124mindex\u001b[39m\u001b[38;5;124m'\u001b[39m, \u001b[38;5;124m'\u001b[39m\u001b[38;5;124mELEV_left\u001b[39m\u001b[38;5;124m'\u001b[39m: \u001b[38;5;124m'\u001b[39m\u001b[38;5;124mELEV\u001b[39m\u001b[38;5;124m'\u001b[39m, \u001b[38;5;124m'\u001b[39m\u001b[38;5;124mnew_geom\u001b[39m\u001b[38;5;124m'\u001b[39m: \u001b[38;5;124m'\u001b[39m\u001b[38;5;124mgeometry\u001b[39m\u001b[38;5;124m'\u001b[39m})\n\u001b[1;32m---> 74\u001b[0m fix_gpd \u001b[38;5;241m=\u001b[39m \u001b[43mfix_gpd\u001b[49m\u001b[38;5;241;43m.\u001b[39;49m\u001b[43mset_index\u001b[49m\u001b[43m(\u001b[49m\u001b[38;5;124;43m'\u001b[39;49m\u001b[38;5;124;43mindex\u001b[39;49m\u001b[38;5;124;43m'\u001b[39;49m\u001b[43m)\u001b[49m\n\u001b[0;32m     75\u001b[0m bfe_clean \u001b[38;5;241m=\u001b[39m all_bfe\u001b[38;5;241m.\u001b[39mloc[\u001b[38;5;241m~\u001b[39mall_bfe\u001b[38;5;241m.\u001b[39mindex\u001b[38;5;241m.\u001b[39misin(fix_gpd\u001b[38;5;241m.\u001b[39mindex)]\n\u001b[0;32m     76\u001b[0m bfe \u001b[38;5;241m=\u001b[39m pd\u001b[38;5;241m.\u001b[39mconcat([bfe_clean, fix_gpd])\n",
      "File \u001b[1;32mD:\\mini-forge\\envs\\geopandas\\lib\\site-packages\\dask_geopandas\\core.py:544\u001b[0m, in \u001b[0;36mGeoDataFrame.set_index\u001b[1;34m(self, *args, **kwargs)\u001b[0m\n\u001b[0;32m    541\u001b[0m \u001b[38;5;129m@derived_from\u001b[39m(dd\u001b[38;5;241m.\u001b[39mDataFrame)\n\u001b[0;32m    542\u001b[0m \u001b[38;5;28;01mdef\u001b[39;00m \u001b[38;5;21mset_index\u001b[39m(\u001b[38;5;28mself\u001b[39m, \u001b[38;5;241m*\u001b[39margs, \u001b[38;5;241m*\u001b[39m\u001b[38;5;241m*\u001b[39mkwargs):\n\u001b[0;32m    543\u001b[0m     \u001b[38;5;124;03m\"\"\"Override to ensure we get GeoDataFrame with set geometry column\"\"\"\u001b[39;00m\n\u001b[1;32m--> 544\u001b[0m     ddf \u001b[38;5;241m=\u001b[39m \u001b[38;5;28msuper\u001b[39m()\u001b[38;5;241m.\u001b[39mset_index(\u001b[38;5;241m*\u001b[39margs, \u001b[38;5;241m*\u001b[39m\u001b[38;5;241m*\u001b[39mkwargs)\n\u001b[0;32m    545\u001b[0m     \u001b[38;5;28;01mreturn\u001b[39;00m ddf\u001b[38;5;241m.\u001b[39mset_geometry(\u001b[38;5;28mself\u001b[39m\u001b[38;5;241m.\u001b[39m_meta\u001b[38;5;241m.\u001b[39mgeometry\u001b[38;5;241m.\u001b[39mname)\n",
      "File \u001b[1;32mD:\\mini-forge\\envs\\geopandas\\lib\\site-packages\\dask\\dataframe\\core.py:4829\u001b[0m, in \u001b[0;36mDataFrame.set_index\u001b[1;34m(***failed resolving arguments***)\u001b[0m\n\u001b[0;32m   4826\u001b[0m \u001b[38;5;28;01melse\u001b[39;00m:\n\u001b[0;32m   4827\u001b[0m     \u001b[38;5;28;01mfrom\u001b[39;00m \u001b[38;5;21;01mdask\u001b[39;00m\u001b[38;5;21;01m.\u001b[39;00m\u001b[38;5;21;01mdataframe\u001b[39;00m\u001b[38;5;21;01m.\u001b[39;00m\u001b[38;5;21;01mshuffle\u001b[39;00m \u001b[38;5;28;01mimport\u001b[39;00m set_index\n\u001b[1;32m-> 4829\u001b[0m     \u001b[38;5;28;01mreturn\u001b[39;00m set_index(\n\u001b[0;32m   4830\u001b[0m         \u001b[38;5;28mself\u001b[39m,\n\u001b[0;32m   4831\u001b[0m         other,\n\u001b[0;32m   4832\u001b[0m         drop\u001b[38;5;241m=\u001b[39mdrop,\n\u001b[0;32m   4833\u001b[0m         npartitions\u001b[38;5;241m=\u001b[39mnpartitions,\n\u001b[0;32m   4834\u001b[0m         divisions\u001b[38;5;241m=\u001b[39mdivisions,\n\u001b[0;32m   4835\u001b[0m         \u001b[38;5;241m*\u001b[39m\u001b[38;5;241m*\u001b[39mkwargs,\n\u001b[0;32m   4836\u001b[0m     )\n",
      "File \u001b[1;32mD:\\mini-forge\\envs\\geopandas\\lib\\site-packages\\dask\\dataframe\\shuffle.py:242\u001b[0m, in \u001b[0;36mset_index\u001b[1;34m(df, index, npartitions, shuffle, compute, drop, upsample, divisions, partition_size, **kwargs)\u001b[0m\n\u001b[0;32m    239\u001b[0m         result \u001b[38;5;241m=\u001b[39m set_sorted_index(df, index, drop\u001b[38;5;241m=\u001b[39mdrop, divisions\u001b[38;5;241m=\u001b[39mdivisions)\n\u001b[0;32m    240\u001b[0m         \u001b[38;5;28;01mreturn\u001b[39;00m result\u001b[38;5;241m.\u001b[39mmap_partitions(M\u001b[38;5;241m.\u001b[39msort_index)\n\u001b[1;32m--> 242\u001b[0m \u001b[38;5;28;01mreturn\u001b[39;00m set_partition(\n\u001b[0;32m    243\u001b[0m     df, index, divisions, shuffle\u001b[38;5;241m=\u001b[39mshuffle, drop\u001b[38;5;241m=\u001b[39mdrop, compute\u001b[38;5;241m=\u001b[39mcompute, \u001b[38;5;241m*\u001b[39m\u001b[38;5;241m*\u001b[39mkwargs\n\u001b[0;32m    244\u001b[0m )\n",
      "File \u001b[1;32mD:\\mini-forge\\envs\\geopandas\\lib\\site-packages\\dask\\dataframe\\shuffle.py:342\u001b[0m, in \u001b[0;36mset_partition\u001b[1;34m(df, index, divisions, max_branch, drop, shuffle, compute)\u001b[0m\n\u001b[0;32m    338\u001b[0m \u001b[38;5;28;01mif\u001b[39;00m \u001b[38;5;129;01mnot\u001b[39;00m \u001b[38;5;28misinstance\u001b[39m(index, Series):\n\u001b[0;32m    339\u001b[0m     partitions \u001b[38;5;241m=\u001b[39m df[index]\u001b[38;5;241m.\u001b[39mmap_partitions(\n\u001b[0;32m    340\u001b[0m         set_partitions_pre, divisions\u001b[38;5;241m=\u001b[39mdivisions, meta\u001b[38;5;241m=\u001b[39mmeta\n\u001b[0;32m    341\u001b[0m     )\n\u001b[1;32m--> 342\u001b[0m     df2 \u001b[38;5;241m=\u001b[39m \u001b[43mdf\u001b[49m\u001b[38;5;241;43m.\u001b[39;49m\u001b[43massign\u001b[49m\u001b[43m(\u001b[49m\u001b[43m_partitions\u001b[49m\u001b[38;5;241;43m=\u001b[39;49m\u001b[43mpartitions\u001b[49m\u001b[43m)\u001b[49m\n\u001b[0;32m    343\u001b[0m \u001b[38;5;28;01melse\u001b[39;00m:\n\u001b[0;32m    344\u001b[0m     partitions \u001b[38;5;241m=\u001b[39m index\u001b[38;5;241m.\u001b[39mmap_partitions(\n\u001b[0;32m    345\u001b[0m         set_partitions_pre, divisions\u001b[38;5;241m=\u001b[39mdivisions, meta\u001b[38;5;241m=\u001b[39mmeta\n\u001b[0;32m    346\u001b[0m     )\n",
      "File \u001b[1;32mD:\\mini-forge\\envs\\geopandas\\lib\\site-packages\\dask\\dataframe\\core.py:4932\u001b[0m, in \u001b[0;36mDataFrame.assign\u001b[1;34m(self, **kwargs)\u001b[0m\n\u001b[0;32m   4929\u001b[0m     pairs \u001b[38;5;241m=\u001b[39m [k, kwargs[k]]\n\u001b[0;32m   4931\u001b[0m     \u001b[38;5;66;03m# Figure out columns of the output\u001b[39;00m\n\u001b[1;32m-> 4932\u001b[0m     df2 \u001b[38;5;241m=\u001b[39m \u001b[43mdata\u001b[49m\u001b[38;5;241;43m.\u001b[39;49m\u001b[43m_meta_nonempty\u001b[49m\u001b[38;5;241m.\u001b[39massign(\n\u001b[0;32m   4933\u001b[0m         \u001b[38;5;241m*\u001b[39m\u001b[38;5;241m*\u001b[39m_extract_meta({k: kwargs[k]}, nonempty\u001b[38;5;241m=\u001b[39m\u001b[38;5;28;01mTrue\u001b[39;00m)\n\u001b[0;32m   4934\u001b[0m     )\n\u001b[0;32m   4935\u001b[0m     data \u001b[38;5;241m=\u001b[39m elemwise(methods\u001b[38;5;241m.\u001b[39massign, data, \u001b[38;5;241m*\u001b[39mpairs, meta\u001b[38;5;241m=\u001b[39mdf2)\n\u001b[0;32m   4937\u001b[0m \u001b[38;5;28;01mreturn\u001b[39;00m data\n",
      "File \u001b[1;32mD:\\mini-forge\\envs\\geopandas\\lib\\site-packages\\dask\\dataframe\\core.py:458\u001b[0m, in \u001b[0;36m_Frame._meta_nonempty\u001b[1;34m(self)\u001b[0m\n\u001b[0;32m    455\u001b[0m \u001b[38;5;129m@property\u001b[39m\n\u001b[0;32m    456\u001b[0m \u001b[38;5;28;01mdef\u001b[39;00m \u001b[38;5;21m_meta_nonempty\u001b[39m(\u001b[38;5;28mself\u001b[39m):\n\u001b[0;32m    457\u001b[0m     \u001b[38;5;124;03m\"\"\"A non-empty version of `_meta` with fake data.\"\"\"\u001b[39;00m\n\u001b[1;32m--> 458\u001b[0m     \u001b[38;5;28;01mreturn\u001b[39;00m \u001b[43mmeta_nonempty\u001b[49m\u001b[43m(\u001b[49m\u001b[38;5;28;43mself\u001b[39;49m\u001b[38;5;241;43m.\u001b[39;49m\u001b[43m_meta\u001b[49m\u001b[43m)\u001b[49m\n",
      "File \u001b[1;32mD:\\mini-forge\\envs\\geopandas\\lib\\site-packages\\dask\\utils.py:607\u001b[0m, in \u001b[0;36mDispatch.__call__\u001b[1;34m(self, arg, *args, **kwargs)\u001b[0m\n\u001b[0;32m    603\u001b[0m \u001b[38;5;124;03m\"\"\"\u001b[39;00m\n\u001b[0;32m    604\u001b[0m \u001b[38;5;124;03mCall the corresponding method based on type of argument.\u001b[39;00m\n\u001b[0;32m    605\u001b[0m \u001b[38;5;124;03m\"\"\"\u001b[39;00m\n\u001b[0;32m    606\u001b[0m meth \u001b[38;5;241m=\u001b[39m \u001b[38;5;28mself\u001b[39m\u001b[38;5;241m.\u001b[39mdispatch(\u001b[38;5;28mtype\u001b[39m(arg))\n\u001b[1;32m--> 607\u001b[0m \u001b[38;5;28;01mreturn\u001b[39;00m meth(arg, \u001b[38;5;241m*\u001b[39margs, \u001b[38;5;241m*\u001b[39m\u001b[38;5;241m*\u001b[39mkwargs)\n",
      "File \u001b[1;32mD:\\mini-forge\\envs\\geopandas\\lib\\site-packages\\dask_geopandas\\backends.py:63\u001b[0m, in \u001b[0;36m_nonempty_geodataframe\u001b[1;34m(x)\u001b[0m\n\u001b[0;32m     60\u001b[0m \u001b[38;5;129m@meta_nonempty\u001b[39m\u001b[38;5;241m.\u001b[39mregister(geopandas\u001b[38;5;241m.\u001b[39mGeoDataFrame)\n\u001b[0;32m     61\u001b[0m \u001b[38;5;28;01mdef\u001b[39;00m \u001b[38;5;21m_nonempty_geodataframe\u001b[39m(x):\n\u001b[0;32m     62\u001b[0m     df \u001b[38;5;241m=\u001b[39m meta_nonempty_dataframe(x)\n\u001b[1;32m---> 63\u001b[0m     \u001b[38;5;28;01mreturn\u001b[39;00m \u001b[43mgeopandas\u001b[49m\u001b[38;5;241;43m.\u001b[39;49m\u001b[43mGeoDataFrame\u001b[49m\u001b[43m(\u001b[49m\u001b[43mdf\u001b[49m\u001b[43m,\u001b[49m\u001b[43m \u001b[49m\u001b[43mgeometry\u001b[49m\u001b[38;5;241;43m=\u001b[39;49m\u001b[43mx\u001b[49m\u001b[38;5;241;43m.\u001b[39;49m\u001b[43m_geometry_column_name\u001b[49m\u001b[43m,\u001b[49m\u001b[43m \u001b[49m\u001b[43mcrs\u001b[49m\u001b[38;5;241;43m=\u001b[39;49m\u001b[43mx\u001b[49m\u001b[38;5;241;43m.\u001b[39;49m\u001b[43mcrs\u001b[49m\u001b[43m)\u001b[49m\n",
      "File \u001b[1;32mD:\\mini-forge\\envs\\geopandas\\lib\\site-packages\\geopandas\\geodataframe.py:189\u001b[0m, in \u001b[0;36mGeoDataFrame.__init__\u001b[1;34m(self, data, geometry, crs, *args, **kwargs)\u001b[0m\n\u001b[0;32m    181\u001b[0m     \u001b[38;5;28;01mif\u001b[39;00m (\n\u001b[0;32m    182\u001b[0m         \u001b[38;5;28mhasattr\u001b[39m(geometry, \u001b[38;5;124m\"\u001b[39m\u001b[38;5;124mcrs\u001b[39m\u001b[38;5;124m\"\u001b[39m)\n\u001b[0;32m    183\u001b[0m         \u001b[38;5;129;01mand\u001b[39;00m geometry\u001b[38;5;241m.\u001b[39mcrs\n\u001b[0;32m    184\u001b[0m         \u001b[38;5;129;01mand\u001b[39;00m crs\n\u001b[0;32m    185\u001b[0m         \u001b[38;5;129;01mand\u001b[39;00m \u001b[38;5;129;01mnot\u001b[39;00m geometry\u001b[38;5;241m.\u001b[39mcrs \u001b[38;5;241m==\u001b[39m crs\n\u001b[0;32m    186\u001b[0m     ):\n\u001b[0;32m    187\u001b[0m         \u001b[38;5;28;01mraise\u001b[39;00m \u001b[38;5;167;01mValueError\u001b[39;00m(crs_mismatch_error)\n\u001b[1;32m--> 189\u001b[0m     \u001b[38;5;28;43mself\u001b[39;49m\u001b[38;5;241;43m.\u001b[39;49m\u001b[43mset_geometry\u001b[49m\u001b[43m(\u001b[49m\u001b[43mgeometry\u001b[49m\u001b[43m,\u001b[49m\u001b[43m \u001b[49m\u001b[43minplace\u001b[49m\u001b[38;5;241;43m=\u001b[39;49m\u001b[38;5;28;43;01mTrue\u001b[39;49;00m\u001b[43m,\u001b[49m\u001b[43m \u001b[49m\u001b[43mcrs\u001b[49m\u001b[38;5;241;43m=\u001b[39;49m\u001b[43mcrs\u001b[49m\u001b[43m)\u001b[49m\n\u001b[0;32m    191\u001b[0m \u001b[38;5;28;01mif\u001b[39;00m geometry \u001b[38;5;129;01mis\u001b[39;00m \u001b[38;5;28;01mNone\u001b[39;00m \u001b[38;5;129;01mand\u001b[39;00m crs:\n\u001b[0;32m    192\u001b[0m     \u001b[38;5;28;01mraise\u001b[39;00m \u001b[38;5;167;01mValueError\u001b[39;00m(\n\u001b[0;32m    193\u001b[0m         \u001b[38;5;124m\"\u001b[39m\u001b[38;5;124mAssigning CRS to a GeoDataFrame without a geometry column is not \u001b[39m\u001b[38;5;124m\"\u001b[39m\n\u001b[0;32m    194\u001b[0m         \u001b[38;5;124m\"\u001b[39m\u001b[38;5;124msupported. Supply geometry using the \u001b[39m\u001b[38;5;124m'\u001b[39m\u001b[38;5;124mgeometry=\u001b[39m\u001b[38;5;124m'\u001b[39m\u001b[38;5;124m keyword argument, \u001b[39m\u001b[38;5;124m\"\u001b[39m\n\u001b[0;32m    195\u001b[0m         \u001b[38;5;124m\"\u001b[39m\u001b[38;5;124mor by providing a DataFrame with column name \u001b[39m\u001b[38;5;124m'\u001b[39m\u001b[38;5;124mgeometry\u001b[39m\u001b[38;5;124m'\u001b[39m\u001b[38;5;124m\"\u001b[39m,\n\u001b[0;32m    196\u001b[0m     )\n",
      "File \u001b[1;32mD:\\mini-forge\\envs\\geopandas\\lib\\site-packages\\geopandas\\geodataframe.py:320\u001b[0m, in \u001b[0;36mGeoDataFrame.set_geometry\u001b[1;34m(self, col, drop, inplace, crs)\u001b[0m\n\u001b[0;32m    318\u001b[0m     level \u001b[38;5;241m=\u001b[39m frame[col]\n\u001b[0;32m    319\u001b[0m \u001b[38;5;28;01mexcept\u001b[39;00m \u001b[38;5;167;01mKeyError\u001b[39;00m:\n\u001b[1;32m--> 320\u001b[0m     \u001b[38;5;28;01mraise\u001b[39;00m \u001b[38;5;167;01mValueError\u001b[39;00m(\u001b[38;5;124m\"\u001b[39m\u001b[38;5;124mUnknown column \u001b[39m\u001b[38;5;132;01m%s\u001b[39;00m\u001b[38;5;124m\"\u001b[39m \u001b[38;5;241m%\u001b[39m col)\n\u001b[0;32m    321\u001b[0m \u001b[38;5;28;01mexcept\u001b[39;00m \u001b[38;5;167;01mException\u001b[39;00m:\n\u001b[0;32m    322\u001b[0m     \u001b[38;5;28;01mraise\u001b[39;00m\n",
      "\u001b[1;31mValueError\u001b[0m: Unknown column new_geom"
     ]
    }
   ],
   "source": [
    "select_gdb = '48113'\n",
    "for gdb in glob.glob('D:\\Projects\\WaterSurfacePolygons\\Data\\CountyEdge_Testing\\*.gdb'):\n",
    "    if os.path.basename(gdb).split('.')[0] == select_gdb:\n",
    "        selFZ = gpd.read_file(gdb, driver='FileGDB', layer='FLOOD_ZONES')\n",
    "        selFZ = dd.from_geopandas(selFZ, npartitions=4)\n",
    "\n",
    "        selBFE = gpd.read_file(gdb, driver='FileGDB', layer='DYNAMIC')\n",
    "        selBFE = dd.from_geopandas(selBFE, npartitions=4)\n",
    "\n",
    "        sel_ae = selFZ.loc[selFZ['D_ZONE'] == 'AE']\n",
    "        sel_ae_dynamic = sel_ae.loc[sel_ae['BFE_STATIC'].isnull()]\n",
    "        sel_ae_dynamic['FIPS'] = sel_ae_dynamic.apply(lambda x: str(x['STATE_CODE']) + str(x['COUNTY_CODE']), axis=1)\n",
    "\n",
    "        sel_ae_dis = sel_ae_dynamic.dissolve(by='FIPS')\n",
    "        sel_ae_dis = sel_ae_dis.to_crs(26913)\n",
    "        sel_fsp = sel_ae_dis[['geometry']]\n",
    "        sel_fsp = sel_fsp.reset_index()\n",
    "\n",
    "        # Reproject BFEs \n",
    "        selBFE = selBFE.to_crs(26913)\n",
    "        sel_bfe = selBFE[['ELEV', 'geometry']]\n",
    "\n",
    "        \"\"\" Test List of adjacent Co FIPS \"\"\"\n",
    "        adj_ls = ['48439'] # Only tarrant\n",
    "        for a in adj_ls:\n",
    "            for adj_gdb in glob.glob('D:\\Projects\\WaterSurfacePolygons\\Data\\CountyEdge_Testing\\*.gdb'):\n",
    "                if os.path.basename(adj_gdb).split('.')[0] == a:\n",
    "                    adjFZ = gpd.read_file(adj_gdb, driver='FileGDB', layer='FLOOD_ZONES')\n",
    "                    adjFZ = dd.from_geopandas(adjFZ, npartitions=4)\n",
    "\n",
    "                    adjBFE = gpd.read_file(adj_gdb, driver='FileGDB', layer='DYNAMIC')\n",
    "                    adjBFE = dd.from_geopandas(adjBFE, npartitions=4)\n",
    "\n",
    "                    adj_ae = adjFZ.loc[adjFZ['D_ZONE'] == 'AE']\n",
    "                    adj_ae_dynamic = adj_ae.loc[adj_ae['BFE_STATIC'].isnull()]\n",
    "                    adj_ae_dynamic['FIPS'] = adj_ae_dynamic.apply(lambda x: str(x['STATE_CODE']) + str(x['COUNTY_CODE']), axis=1)\n",
    "\n",
    "                    adj_ae_dis = adj_ae_dynamic.dissolve(by='FIPS')\n",
    "                    adj_ae_dis = adj_ae_dis.to_crs(26913)\n",
    "                    adj_fsp = adj_ae_dis[['geometry']]\n",
    "                    adj_fsp = adj_fsp.reset_index()\n",
    "\n",
    "                    # Reproject BFEs \n",
    "                    adjBFE = adjBFE.to_crs(26913)\n",
    "                    adj_bfe = adjBFE[['ELEV', 'geometry']]\n",
    "\n",
    "        print('Merge All County Flood Zones')\n",
    "        all_fsp = d.concat([sel_fsp, adj_fsp], ignore_index=True)\n",
    "        all_fsp_x = all_fsp.explode()\n",
    "        all_fsp_merge = dd.from_geopandas(g(all_fsp_x.unary_union.compute(), 26913), npartitions=4)\n",
    "\n",
    "        print('Merge All County BFEs')\n",
    "        all_bfe = d.concat([sel_bfe, adj_bfe], ignore_index=True)\n",
    "\n",
    "        print('Clean BFEs')\n",
    "        bfe_bfe = all_bfe.sjoin(all_bfe)\n",
    "        bfe_bfe = bfe_bfe.reset_index()\n",
    "        brok = bfe_bfe.loc[bfe_bfe['index'] != bfe_bfe['index_right']]\n",
    "        if len(brok) > 0:\n",
    "            print('Cleaning BFEs...')\n",
    "            brok_geoms = brok[['index', 'geometry']]\n",
    "            fix = brok.merge(brok_geoms, left_on='index_right', right_on='index')\n",
    "\n",
    "            # linemerge([m for m in x.geometry_x] + [m for m in x.geometry_y]\n",
    "            fix['new_geom'] = fix.apply(lambda x: linemerge(list((x.geometry_x, x.geometry_y)))\n",
    "                                         if (x.geometry_x.geom_type == 'LineString' and  \n",
    "                                        x.geometry_y.geom_type == 'LineString') \n",
    "                                        else linemerge([m for m in x.geometry_x] + [m for m in x.geometry_y]), \n",
    "                                        axis=1)\n",
    "\n",
    "            fix_gpd = fix[['index_x', 'ELEV_left', 'new_geom']]\n",
    "            fix_gpd = fix_gpd.set_geometry('new_geom')\n",
    "            fix_gpd = fix_gpd.rename(columns={'index_x': 'index', 'ELEV_left': 'ELEV', 'new_geom': 'geometry'})\n",
    "            fix_gpd = fix_gpd.set_index('index')\n",
    "            bfe_clean = all_bfe.loc[~all_bfe.index.isin(fix_gpd.index)]\n",
    "            bfe = d.concat([bfe_clean, fix_gpd])\n",
    "            bfe = bfe.drop_duplicates('geometry')\n",
    "\n",
    "        # Extend BFEs over FSP Poly then reset bfe to new position\n",
    "        print('Extending BFE...')\n",
    "        bfe_ext = bfe_extend(bfe, all_fsp_merge)\n",
    "\n",
    "        print('Clipping BFE...')\n",
    "        bfe = bfe_ext.overlay(all_fsp_merge)\n",
    "\n",
    "        print('Splitting FSP...')\n",
    "        # Split FSP Poly by extended BFEs\n",
    "        fsp_s = split_fsp(all_fsp_merge, bfe_ext)\n",
    "\n",
    "        print('Cleaning FSP...')\n",
    "        # Remove slivers due to overlaps from extended BFEs\n",
    "        fsp_s = fsp_s.overlay(all_fsp_merge)\n",
    "        fsp_s = fsp_s.loc[fsp_s.geom_type == 'Polygon']\n",
    "        fsp_s = fsp_s[['geometry']]\n",
    "        fsp_s = fsp_s.reset_index()"
   ]
  },
  {
   "cell_type": "code",
   "execution_count": 12,
   "metadata": {},
   "outputs": [],
   "source": [
    "all_fsp_merge = dd.from_geopandas(g(all_fsp_x.unary_union.compute(), 26913), npartitions=4)"
   ]
  },
  {
   "cell_type": "code",
   "execution_count": 14,
   "metadata": {},
   "outputs": [
    {
     "data": {
      "text/plain": [
       "(None,)"
      ]
     },
     "execution_count": 14,
     "metadata": {},
     "output_type": "execute_result"
    }
   ],
   "source": [
    "all_fsp_merge.to_feather('all_fsp.feather')"
   ]
  },
  {
   "cell_type": "code",
   "execution_count": 15,
   "metadata": {},
   "outputs": [],
   "source": [
    "\"\"\" I/O Scramble to take dask geodataframe into a Shapefile \"\"\"\n",
    "for fi in glob.glob('all_fsp.feather/*.feather'):\n",
    "    df = gpd.read_feather(os.path.abspath(fi))\n",
    "    n = os.path.basename(fi)\n",
    "    df.to_file(f'{n}.shp')"
   ]
  }
 ],
 "metadata": {
  "interpreter": {
   "hash": "f68bc5b5beef77b2fc41f1b2da42ef9afbd33ecff40bab22baa8ebed873e82ae"
  },
  "kernelspec": {
   "display_name": "Python 3.10.4",
   "language": "python",
   "name": "python3"
  },
  "language_info": {
   "codemirror_mode": {
    "name": "ipython",
    "version": 3
   },
   "file_extension": ".py",
   "mimetype": "text/x-python",
   "name": "python",
   "nbconvert_exporter": "python",
   "pygments_lexer": "ipython3",
   "version": "3.10.4"
  },
  "orig_nbformat": 4
 },
 "nbformat": 4,
 "nbformat_minor": 2
}
