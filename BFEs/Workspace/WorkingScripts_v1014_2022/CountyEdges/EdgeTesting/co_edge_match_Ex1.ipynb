{
 "cells": [
  {
   "cell_type": "code",
   "execution_count": 245,
   "metadata": {},
   "outputs": [],
   "source": [
    "import geopandas as gpd\n",
    "import pandas as pd\n",
    "import glob\n",
    "import os\n",
    "from shapely.geometry import MultiPolygon, Polygon\n",
    "from shapely.ops import unary_union"
   ]
  },
  {
   "cell_type": "code",
   "execution_count": 246,
   "metadata": {},
   "outputs": [],
   "source": [
    "# 0: Geodataframe creation\n",
    "def g(geom, crs):\n",
    "    try:\n",
    "        df = gpd.GeoDataFrame(geometry=geom, crs=crs)\n",
    "        return df\n",
    "    except:\n",
    "        df = gpd.GeoDataFrame(geometry=[geom], crs=crs)\n",
    "        return df\n"
   ]
  },
  {
   "cell_type": "markdown",
   "metadata": {},
   "source": [
    "Experiment # 1\n",
    "Interpolating points along Main County Edges to spatial join with adj. edges. Points that intersect with a single polygon SHOULD be the direct adj. poly. This poly will be used to \n",
    "merge and then triangualte. The idea behind the points is to eliminate the possibility of spatial joining 'kitty-corner' polygons which would occur if simple doing an intersect join.\n",
    "\n",
    "Requirements:\n",
    "1) Main County Edges\n",
    "2) All Adj. County Edges\n",
    "3) County Boundaries (County Polygons)\n",
    "\n",
    "Steps:\n",
    "1) Iterate through each Main COunty Edge and conduct the following steps\n",
    "2) Interpolate points (start with 12)\n",
    "3) Spatial join points df to adj. edge poly df\n",
    "4) Identify adj. edge poly that occurs ONCE/Most often\n",
    "5) Conduct Spatial join on Main COunty Edge poly (will get kitty-corner polys)\n",
    "6) Locate the Adj. Edge Poly that will be merged\n",
    "7) Take the two geometries and union (create 1 poly)\n",
    "8) Trasnfer to seperate df\n",
    "9) Spatial join corresponding BFEs\n",
    "10) Triangulate\n",
    "11) Capture Triangulated poly in single gdf (concat each iteration)\n",
    "12) Split each geometry by County Polygon (Select main polygon from county shapefile)\n",
    "13) Seperate triangles that are WITHIN County Polygon -- Eventually concat to Main Triangulation\n",
    "                                OUTSIDE County Polygon -- Write out as (name file after County the edges are asscociated with) \n",
    "\n",
    "Conclusion:\n",
    "Code Works! Will throw an error it seems if the Main Edge Polygon is very small and/or\n",
    "there are no bfes available. Triangulation is being correctly formed regardless that \n",
    "BFEs are seperate LineStrings. As long as there are BFEs and the size of the polygon is not\n",
    "too small, then the triangulation runs without a hitch. "
   ]
  },
  {
   "cell_type": "code",
   "execution_count": 247,
   "metadata": {},
   "outputs": [
    {
     "data": {
      "text/html": [
       "<div>\n",
       "<style scoped>\n",
       "    .dataframe tbody tr th:only-of-type {\n",
       "        vertical-align: middle;\n",
       "    }\n",
       "\n",
       "    .dataframe tbody tr th {\n",
       "        vertical-align: top;\n",
       "    }\n",
       "\n",
       "    .dataframe thead th {\n",
       "        text-align: right;\n",
       "    }\n",
       "</style>\n",
       "<table border=\"1\" class=\"dataframe\">\n",
       "  <thead>\n",
       "    <tr style=\"text-align: right;\">\n",
       "      <th></th>\n",
       "      <th>index</th>\n",
       "      <th>geometry</th>\n",
       "    </tr>\n",
       "  </thead>\n",
       "  <tbody>\n",
       "    <tr>\n",
       "      <th>0</th>\n",
       "      <td>0</td>\n",
       "      <td>POLYGON ((1245426.341 3677714.492, 1245427.688...</td>\n",
       "    </tr>\n",
       "    <tr>\n",
       "      <th>1</th>\n",
       "      <td>1</td>\n",
       "      <td>POLYGON ((1245624.393 3677499.866, 1245623.046...</td>\n",
       "    </tr>\n",
       "    <tr>\n",
       "      <th>2</th>\n",
       "      <td>2</td>\n",
       "      <td>POLYGON ((1245625.866 3675202.492, 1245627.835...</td>\n",
       "    </tr>\n",
       "    <tr>\n",
       "      <th>3</th>\n",
       "      <td>3</td>\n",
       "      <td>POLYGON ((1245738.083 3675188.326, 1245736.114...</td>\n",
       "    </tr>\n",
       "    <tr>\n",
       "      <th>4</th>\n",
       "      <td>4</td>\n",
       "      <td>POLYGON ((1245638.571 3675104.831, 1245639.046...</td>\n",
       "    </tr>\n",
       "  </tbody>\n",
       "</table>\n",
       "</div>"
      ],
      "text/plain": [
       "   index                                           geometry\n",
       "0      0  POLYGON ((1245426.341 3677714.492, 1245427.688...\n",
       "1      1  POLYGON ((1245624.393 3677499.866, 1245623.046...\n",
       "2      2  POLYGON ((1245625.866 3675202.492, 1245627.835...\n",
       "3      3  POLYGON ((1245738.083 3675188.326, 1245736.114...\n",
       "4      4  POLYGON ((1245638.571 3675104.831, 1245639.046..."
      ]
     },
     "execution_count": 247,
     "metadata": {},
     "output_type": "execute_result"
    }
   ],
   "source": [
    "\"\"\" Read Dallas Edges  \"\"\"\n",
    "dal = gpd.read_file('edges_48113.shp')\n",
    "dal = dal[['geometry']]\n",
    "dal.reset_index(inplace=True)\n",
    "\n",
    "dal.head()\n",
    "\n"
   ]
  },
  {
   "cell_type": "code",
   "execution_count": 248,
   "metadata": {},
   "outputs": [
    {
     "data": {
      "text/html": [
       "<div>\n",
       "<style scoped>\n",
       "    .dataframe tbody tr th:only-of-type {\n",
       "        vertical-align: middle;\n",
       "    }\n",
       "\n",
       "    .dataframe tbody tr th {\n",
       "        vertical-align: top;\n",
       "    }\n",
       "\n",
       "    .dataframe thead th {\n",
       "        text-align: right;\n",
       "    }\n",
       "</style>\n",
       "<table border=\"1\" class=\"dataframe\">\n",
       "  <thead>\n",
       "    <tr style=\"text-align: right;\">\n",
       "      <th></th>\n",
       "      <th>geometry</th>\n",
       "    </tr>\n",
       "  </thead>\n",
       "  <tbody>\n",
       "    <tr>\n",
       "      <th>0</th>\n",
       "      <td>POLYGON ((1246547.865 3661097.078, 1246548.937...</td>\n",
       "    </tr>\n",
       "  </tbody>\n",
       "</table>\n",
       "</div>"
      ],
      "text/plain": [
       "                                            geometry\n",
       "0  POLYGON ((1246547.865 3661097.078, 1246548.937..."
      ]
     },
     "execution_count": 248,
     "metadata": {},
     "output_type": "execute_result"
    }
   ],
   "source": [
    "\"\"\" Test on single Main Edge Poly \"\"\"\n",
    "test = 8\n",
    "dal = g(dal.iloc[test].geometry, 26913)\n",
    "dal\n",
    "\n"
   ]
  },
  {
   "cell_type": "code",
   "execution_count": 249,
   "metadata": {},
   "outputs": [
    {
     "data": {
      "text/html": [
       "<div>\n",
       "<style scoped>\n",
       "    .dataframe tbody tr th:only-of-type {\n",
       "        vertical-align: middle;\n",
       "    }\n",
       "\n",
       "    .dataframe tbody tr th {\n",
       "        vertical-align: top;\n",
       "    }\n",
       "\n",
       "    .dataframe thead th {\n",
       "        text-align: right;\n",
       "    }\n",
       "</style>\n",
       "<table border=\"1\" class=\"dataframe\">\n",
       "  <thead>\n",
       "    <tr style=\"text-align: right;\">\n",
       "      <th></th>\n",
       "      <th>geometry</th>\n",
       "    </tr>\n",
       "  </thead>\n",
       "  <tbody>\n",
       "    <tr>\n",
       "      <th>0</th>\n",
       "      <td>POLYGON ((1197416.254 3674741.762, 1197416.341...</td>\n",
       "    </tr>\n",
       "    <tr>\n",
       "      <th>1</th>\n",
       "      <td>POLYGON ((1197906.981 3667938.805, 1197906.630...</td>\n",
       "    </tr>\n",
       "    <tr>\n",
       "      <th>2</th>\n",
       "      <td>POLYGON ((1198016.254 3663511.939, 1198016.339...</td>\n",
       "    </tr>\n",
       "    <tr>\n",
       "      <th>3</th>\n",
       "      <td>POLYGON ((1198021.913 3663379.458, 1198021.829...</td>\n",
       "    </tr>\n",
       "    <tr>\n",
       "      <th>4</th>\n",
       "      <td>POLYGON ((1198261.579 3663869.300, 1198260.391...</td>\n",
       "    </tr>\n",
       "  </tbody>\n",
       "</table>\n",
       "</div>"
      ],
      "text/plain": [
       "                                            geometry\n",
       "0  POLYGON ((1197416.254 3674741.762, 1197416.341...\n",
       "1  POLYGON ((1197906.981 3667938.805, 1197906.630...\n",
       "2  POLYGON ((1198016.254 3663511.939, 1198016.339...\n",
       "3  POLYGON ((1198021.913 3663379.458, 1198021.829...\n",
       "4  POLYGON ((1198261.579 3663869.300, 1198260.391..."
      ]
     },
     "execution_count": 249,
     "metadata": {},
     "output_type": "execute_result"
    }
   ],
   "source": [
    "\"\"\" Read in Adj. COunty Edges (Tarrant)\"\"\"\n",
    "tar = gpd.read_file('edges_48439.shp')\n",
    "tar = tar[['geometry']]\n",
    "tar.reset_index(inplace=True, drop=True)\n",
    "tar.head()\n"
   ]
  },
  {
   "cell_type": "code",
   "execution_count": 250,
   "metadata": {},
   "outputs": [],
   "source": [
    "\"\"\" Iterate through All Dallas Edges and do the following \"\"\"\n",
    "# Interpolate Points -- Convert to seperate gdf\n",
    "points = 12\n",
    "dal['line_geom'] = dal.apply(lambda x: x.geometry.boundary, axis=1)\n",
    "for i, d in dal.iterrows():\n",
    "    pts = [d.line_geom.interpolate(i/points, normalized=True) for i in range(1, points)]\n",
    "    pts = g(pts, 26913)\n",
    "    pts_buff = g(pts.buffer(1).geometry, 26913)"
   ]
  },
  {
   "cell_type": "code",
   "execution_count": 251,
   "metadata": {},
   "outputs": [
    {
     "data": {
      "text/html": [
       "<div>\n",
       "<style scoped>\n",
       "    .dataframe tbody tr th:only-of-type {\n",
       "        vertical-align: middle;\n",
       "    }\n",
       "\n",
       "    .dataframe tbody tr th {\n",
       "        vertical-align: top;\n",
       "    }\n",
       "\n",
       "    .dataframe thead th {\n",
       "        text-align: right;\n",
       "    }\n",
       "</style>\n",
       "<table border=\"1\" class=\"dataframe\">\n",
       "  <thead>\n",
       "    <tr style=\"text-align: right;\">\n",
       "      <th></th>\n",
       "      <th>geometry</th>\n",
       "      <th>index_right</th>\n",
       "    </tr>\n",
       "  </thead>\n",
       "  <tbody>\n",
       "    <tr>\n",
       "      <th>10</th>\n",
       "      <td>POLYGON ((1246551.717 3661029.149, 1246551.712...</td>\n",
       "      <td>56</td>\n",
       "    </tr>\n",
       "  </tbody>\n",
       "</table>\n",
       "</div>"
      ],
      "text/plain": [
       "                                             geometry  index_right\n",
       "10  POLYGON ((1246551.717 3661029.149, 1246551.712...           56"
      ]
     },
     "execution_count": 251,
     "metadata": {},
     "output_type": "execute_result"
    }
   ],
   "source": [
    "# Spatial join df to Adj. Edge Poly df\n",
    "pjoin = pts_buff.sjoin(tar)\n",
    "pjoin"
   ]
  },
  {
   "cell_type": "markdown",
   "metadata": {},
   "source": [
    " get index that occurs most often\n",
    "df = pd.DataFrame({'index': [1, 2, 2, 3, 4], 'index_right': [20, 20, 51, 20, 20]})\n",
    "adjId = df['index_right'].value_counts().idxmax()"
   ]
  },
  {
   "cell_type": "code",
   "execution_count": 252,
   "metadata": {},
   "outputs": [
    {
     "data": {
      "text/plain": [
       "56"
      ]
     },
     "execution_count": 252,
     "metadata": {},
     "output_type": "execute_result"
    }
   ],
   "source": [
    "# Identify which index occurs only once // Most often?\n",
    "adjId = pjoin['index_right'].value_counts().idxmax()\n",
    "adjId"
   ]
  },
  {
   "cell_type": "code",
   "execution_count": 253,
   "metadata": {},
   "outputs": [
    {
     "data": {
      "text/html": [
       "<div>\n",
       "<style scoped>\n",
       "    .dataframe tbody tr th:only-of-type {\n",
       "        vertical-align: middle;\n",
       "    }\n",
       "\n",
       "    .dataframe tbody tr th {\n",
       "        vertical-align: top;\n",
       "    }\n",
       "\n",
       "    .dataframe thead th {\n",
       "        text-align: right;\n",
       "    }\n",
       "</style>\n",
       "<table border=\"1\" class=\"dataframe\">\n",
       "  <thead>\n",
       "    <tr style=\"text-align: right;\">\n",
       "      <th></th>\n",
       "      <th>geometry</th>\n",
       "      <th>line_geom</th>\n",
       "      <th>index_right</th>\n",
       "    </tr>\n",
       "  </thead>\n",
       "  <tbody>\n",
       "    <tr>\n",
       "      <th>0</th>\n",
       "      <td>POLYGON ((1246547.865 3661097.078, 1246548.937...</td>\n",
       "      <td>LINESTRING (1246547.865 3661097.078, 1246548.9...</td>\n",
       "      <td>56</td>\n",
       "    </tr>\n",
       "    <tr>\n",
       "      <th>0</th>\n",
       "      <td>POLYGON ((1246547.865 3661097.078, 1246548.937...</td>\n",
       "      <td>LINESTRING (1246547.865 3661097.078, 1246548.9...</td>\n",
       "      <td>55</td>\n",
       "    </tr>\n",
       "  </tbody>\n",
       "</table>\n",
       "</div>"
      ],
      "text/plain": [
       "                                            geometry  \\\n",
       "0  POLYGON ((1246547.865 3661097.078, 1246548.937...   \n",
       "0  POLYGON ((1246547.865 3661097.078, 1246548.937...   \n",
       "\n",
       "                                           line_geom  index_right  \n",
       "0  LINESTRING (1246547.865 3661097.078, 1246548.9...           56  \n",
       "0  LINESTRING (1246547.865 3661097.078, 1246548.9...           55  "
      ]
     },
     "execution_count": 253,
     "metadata": {},
     "output_type": "execute_result"
    }
   ],
   "source": [
    "# Regular Spatial join between Dallas Edge Polys and Adj. Edge Polys\n",
    "dal_join = dal.sjoin(tar)\n",
    "dal_join"
   ]
  },
  {
   "cell_type": "code",
   "execution_count": 254,
   "metadata": {},
   "outputs": [
    {
     "data": {
      "text/html": [
       "<div>\n",
       "<style scoped>\n",
       "    .dataframe tbody tr th:only-of-type {\n",
       "        vertical-align: middle;\n",
       "    }\n",
       "\n",
       "    .dataframe tbody tr th {\n",
       "        vertical-align: top;\n",
       "    }\n",
       "\n",
       "    .dataframe thead th {\n",
       "        text-align: right;\n",
       "    }\n",
       "</style>\n",
       "<table border=\"1\" class=\"dataframe\">\n",
       "  <thead>\n",
       "    <tr style=\"text-align: right;\">\n",
       "      <th></th>\n",
       "      <th>geometry_x</th>\n",
       "      <th>line_geom</th>\n",
       "      <th>index_right</th>\n",
       "      <th>geometry_y</th>\n",
       "    </tr>\n",
       "  </thead>\n",
       "  <tbody>\n",
       "    <tr>\n",
       "      <th>0</th>\n",
       "      <td>POLYGON ((1246547.865 3661097.078, 1246548.937...</td>\n",
       "      <td>LINESTRING (1246547.865 3661097.078, 1246548.9...</td>\n",
       "      <td>56</td>\n",
       "      <td>POLYGON ((1246518.549 3661050.830, 1246519.592...</td>\n",
       "    </tr>\n",
       "  </tbody>\n",
       "</table>\n",
       "</div>"
      ],
      "text/plain": [
       "                                          geometry_x  \\\n",
       "0  POLYGON ((1246547.865 3661097.078, 1246548.937...   \n",
       "\n",
       "                                           line_geom  index_right  \\\n",
       "0  LINESTRING (1246547.865 3661097.078, 1246548.9...           56   \n",
       "\n",
       "                                          geometry_y  \n",
       "0  POLYGON ((1246518.549 3661050.830, 1246519.592...  "
      ]
     },
     "execution_count": 254,
     "metadata": {},
     "output_type": "execute_result"
    }
   ],
   "source": [
    "# Filter Sjoin to include only the adjID\n",
    "dal_join = dal_join.loc[dal_join['index_right'] == adjId]\n",
    "\n",
    "# Merge with Adj. COunty Edge df to get Adj. Geometry\n",
    "dal_join = dal_join.merge(tar, left_on='index_right', right_index=True)\n",
    "dal_join"
   ]
  },
  {
   "cell_type": "code",
   "execution_count": 255,
   "metadata": {},
   "outputs": [
    {
     "data": {
      "text/html": [
       "<div>\n",
       "<style scoped>\n",
       "    .dataframe tbody tr th:only-of-type {\n",
       "        vertical-align: middle;\n",
       "    }\n",
       "\n",
       "    .dataframe tbody tr th {\n",
       "        vertical-align: top;\n",
       "    }\n",
       "\n",
       "    .dataframe thead th {\n",
       "        text-align: right;\n",
       "    }\n",
       "</style>\n",
       "<table border=\"1\" class=\"dataframe\">\n",
       "  <thead>\n",
       "    <tr style=\"text-align: right;\">\n",
       "      <th></th>\n",
       "      <th>geometry</th>\n",
       "    </tr>\n",
       "  </thead>\n",
       "  <tbody>\n",
       "    <tr>\n",
       "      <th>0</th>\n",
       "      <td>POLYGON ((1246519.592 3661052.473, 1246520.635...</td>\n",
       "    </tr>\n",
       "  </tbody>\n",
       "</table>\n",
       "</div>"
      ],
      "text/plain": [
       "                                            geometry\n",
       "0  POLYGON ((1246519.592 3661052.473, 1246520.635..."
      ]
     },
     "execution_count": 255,
     "metadata": {},
     "output_type": "execute_result"
    }
   ],
   "source": [
    "# Union both geometries and pass to seperate gdf\n",
    "dal_join['merge'] = dal_join.apply(lambda x: unary_union([x.geometry_x, x.geometry_y]), axis=1)\n",
    "edge = dal_join[['merge']].rename(columns={'merge': 'geometry'})\n",
    "edge = edge.set_geometry('geometry', crs=26913)\n",
    "edge"
   ]
  },
  {
   "cell_type": "code",
   "execution_count": 256,
   "metadata": {},
   "outputs": [],
   "source": [
    "edge.to_file(f'{test}_edge.shp')"
   ]
  },
  {
   "cell_type": "code",
   "execution_count": 257,
   "metadata": {},
   "outputs": [
    {
     "data": {
      "text/html": [
       "<div>\n",
       "<style scoped>\n",
       "    .dataframe tbody tr th:only-of-type {\n",
       "        vertical-align: middle;\n",
       "    }\n",
       "\n",
       "    .dataframe tbody tr th {\n",
       "        vertical-align: top;\n",
       "    }\n",
       "\n",
       "    .dataframe thead th {\n",
       "        text-align: right;\n",
       "    }\n",
       "</style>\n",
       "<table border=\"1\" class=\"dataframe\">\n",
       "  <thead>\n",
       "    <tr style=\"text-align: right;\">\n",
       "      <th></th>\n",
       "      <th>ELEV</th>\n",
       "      <th>FIPS</th>\n",
       "      <th>geometry</th>\n",
       "    </tr>\n",
       "  </thead>\n",
       "  <tbody>\n",
       "    <tr>\n",
       "      <th>4029</th>\n",
       "      <td>476.0</td>\n",
       "      <td>48113</td>\n",
       "      <td>LINESTRING (1246603.026 3661001.820, 1246604.1...</td>\n",
       "    </tr>\n",
       "    <tr>\n",
       "      <th>4966</th>\n",
       "      <td>478.0</td>\n",
       "      <td>48113</td>\n",
       "      <td>LINESTRING (1246546.751 3661095.337, 1246547.8...</td>\n",
       "    </tr>\n",
       "    <tr>\n",
       "      <th>132</th>\n",
       "      <td>613.0</td>\n",
       "      <td>48439</td>\n",
       "      <td>LINESTRING (1228993.358 3677351.944, 1228995.3...</td>\n",
       "    </tr>\n",
       "    <tr>\n",
       "      <th>340</th>\n",
       "      <td>479.0</td>\n",
       "      <td>48439</td>\n",
       "      <td>LINESTRING (1246498.211 3661086.410, 1246499.0...</td>\n",
       "    </tr>\n",
       "    <tr>\n",
       "      <th>7589</th>\n",
       "      <td>480.0</td>\n",
       "      <td>48439</td>\n",
       "      <td>LINESTRING (1246363.458 3661101.119, 1246365.2...</td>\n",
       "    </tr>\n",
       "    <tr>\n",
       "      <th>...</th>\n",
       "      <td>...</td>\n",
       "      <td>...</td>\n",
       "      <td>...</td>\n",
       "    </tr>\n",
       "    <tr>\n",
       "      <th>7963</th>\n",
       "      <td>818.4</td>\n",
       "      <td>48439</td>\n",
       "      <td>LINESTRING (1210394.584 3676078.106, 1210396.5...</td>\n",
       "    </tr>\n",
       "    <tr>\n",
       "      <th>7963</th>\n",
       "      <td>818.4</td>\n",
       "      <td>48439</td>\n",
       "      <td>LINESTRING (1210394.584 3676078.106, 1210396.5...</td>\n",
       "    </tr>\n",
       "    <tr>\n",
       "      <th>8240</th>\n",
       "      <td>598.0</td>\n",
       "      <td>48439</td>\n",
       "      <td>LINESTRING (1241891.135 3628995.315, 1241890.3...</td>\n",
       "    </tr>\n",
       "    <tr>\n",
       "      <th>8241</th>\n",
       "      <td>603.0</td>\n",
       "      <td>48439</td>\n",
       "      <td>LINESTRING (1241799.395 3628947.721, 1241797.9...</td>\n",
       "    </tr>\n",
       "    <tr>\n",
       "      <th>8242</th>\n",
       "      <td>613.0</td>\n",
       "      <td>48439</td>\n",
       "      <td>LINESTRING (1240674.588 3629189.974, 1240675.3...</td>\n",
       "    </tr>\n",
       "  </tbody>\n",
       "</table>\n",
       "<p>117 rows × 3 columns</p>\n",
       "</div>"
      ],
      "text/plain": [
       "       ELEV   FIPS                                           geometry\n",
       "4029  476.0  48113  LINESTRING (1246603.026 3661001.820, 1246604.1...\n",
       "4966  478.0  48113  LINESTRING (1246546.751 3661095.337, 1246547.8...\n",
       "132   613.0  48439  LINESTRING (1228993.358 3677351.944, 1228995.3...\n",
       "340   479.0  48439  LINESTRING (1246498.211 3661086.410, 1246499.0...\n",
       "7589  480.0  48439  LINESTRING (1246363.458 3661101.119, 1246365.2...\n",
       "...     ...    ...                                                ...\n",
       "7963  818.4  48439  LINESTRING (1210394.584 3676078.106, 1210396.5...\n",
       "7963  818.4  48439  LINESTRING (1210394.584 3676078.106, 1210396.5...\n",
       "8240  598.0  48439  LINESTRING (1241891.135 3628995.315, 1241890.3...\n",
       "8241  603.0  48439  LINESTRING (1241799.395 3628947.721, 1241797.9...\n",
       "8242  613.0  48439  LINESTRING (1240674.588 3629189.974, 1240675.3...\n",
       "\n",
       "[117 rows x 3 columns]"
      ]
     },
     "execution_count": 257,
     "metadata": {},
     "output_type": "execute_result"
    }
   ],
   "source": [
    "\"\"\" Bfes from both counties will need to be concatenated so that they are all associated during the spatial join \"\"\"\n",
    "# read COunty BFEs\n",
    "dal_bfe = gpd.read_file('BFE_48113.shp')\n",
    "tar_bfe = gpd.read_file('BFE_48439.shp')\n",
    "\n",
    "# spatial join to Edges polygons\n",
    "dal_bfe_edge = dal_bfe.sjoin(dal)\n",
    "dal_bfe_edge = dal_bfe_edge[['ELEV', 'FIPS', 'geometry']]\n",
    "tar_bfe_edge = tar_bfe.sjoin(tar)\n",
    "tar_bfe_edge = tar_bfe_edge[['ELEV', 'FIPS', 'geometry']]\n",
    "\n",
    "# combine all edge BFEs\n",
    "all_edge_bfe = pd.concat([dal_bfe_edge, tar_bfe_edge])\n",
    "all_edge_bfe"
   ]
  },
  {
   "cell_type": "code",
   "execution_count": 258,
   "metadata": {},
   "outputs": [
    {
     "data": {
      "text/html": [
       "<div>\n",
       "<style scoped>\n",
       "    .dataframe tbody tr th:only-of-type {\n",
       "        vertical-align: middle;\n",
       "    }\n",
       "\n",
       "    .dataframe tbody tr th {\n",
       "        vertical-align: top;\n",
       "    }\n",
       "\n",
       "    .dataframe thead th {\n",
       "        text-align: right;\n",
       "    }\n",
       "</style>\n",
       "<table border=\"1\" class=\"dataframe\">\n",
       "  <thead>\n",
       "    <tr style=\"text-align: right;\">\n",
       "      <th></th>\n",
       "      <th>ELEV</th>\n",
       "      <th>geometry</th>\n",
       "    </tr>\n",
       "  </thead>\n",
       "  <tbody>\n",
       "    <tr>\n",
       "      <th>4029</th>\n",
       "      <td>476.0</td>\n",
       "      <td>LINESTRING (1246603.026 3661001.820, 1246604.1...</td>\n",
       "    </tr>\n",
       "    <tr>\n",
       "      <th>4966</th>\n",
       "      <td>478.0</td>\n",
       "      <td>LINESTRING (1246546.751 3661095.337, 1246547.8...</td>\n",
       "    </tr>\n",
       "    <tr>\n",
       "      <th>5541</th>\n",
       "      <td>478.0</td>\n",
       "      <td>LINESTRING (1246517.483 3661049.153, 1246518.5...</td>\n",
       "    </tr>\n",
       "  </tbody>\n",
       "</table>\n",
       "</div>"
      ],
      "text/plain": [
       "       ELEV                                           geometry\n",
       "4029  476.0  LINESTRING (1246603.026 3661001.820, 1246604.1...\n",
       "4966  478.0  LINESTRING (1246546.751 3661095.337, 1246547.8...\n",
       "5541  478.0  LINESTRING (1246517.483 3661049.153, 1246518.5..."
      ]
     },
     "execution_count": 258,
     "metadata": {},
     "output_type": "execute_result"
    }
   ],
   "source": [
    "# Locate corresponding BFEs to Union Edge Poly\n",
    "bfe_set = all_edge_bfe.sjoin(edge)\n",
    "\n",
    "# Why do I have duplicates in all_bfes?\n",
    "bfe_set = bfe_set.drop_duplicates()\n",
    "bfe_set = bfe_set[['ELEV', 'geometry']]\n",
    "bfe_set"
   ]
  },
  {
   "cell_type": "code",
   "execution_count": 259,
   "metadata": {},
   "outputs": [
    {
     "name": "stdout",
     "output_type": "stream",
     "text": [
      "Creating more points..\n"
     ]
    }
   ],
   "source": [
    "\"\"\" Begin Triangulation process on unioned edge poly using the \n",
    "corresponding BFE set. \"\"\"\n",
    "from new_methods import *\n",
    "triangles = gpd.GeoDataFrame()\n",
    "\n",
    "# Getting Z-geom for BFE Points\n",
    "bfe_pts_utm, bfe_pts_84 = bfe_zpts(bfe_set)\n",
    "\n",
    "# FSP Simplify, Interpolation, and Z-geom\n",
    "fsp_i_pts = fsp_pts(edge, bfe_pts=bfe_pts_utm, bfe_set=bfe_set, diff_area=900)\n",
    "\n",
    "if fsp_i_pts is not None:\n",
    "    print('Creating more points..')\n",
    "    fsp_i_pts = (fsp_i_pts.pipe(IDW, bfe=bfe_set, power=2)\n",
    "                .pipe(ELEV_2geom)\n",
    ")\n",
    "\n",
    "    # Concat and Triangulate\n",
    "    all_pts = pd.concat([bfe_pts_84, fsp_i_pts], ignore_index=True)\n",
    "    all_pts_multigeom = MultiPoint(all_pts.geometry.to_list())\n",
    "\n",
    "    tin = triangulate(all_pts_multigeom)\n",
    "    tin_df = g(tin, 4326)\n",
    "\n",
    "    # Extract Geom\n",
    "    final_tin = extract_geom(tin_df)\n",
    "    \n",
    "    #final_tin = final_tin.overlay(f) #(final_tin.geometry.centroid.within(f.geometry[0])) |\n",
    "                \n",
    "    triangles = pd.concat([triangles, final_tin], ignore_index=True)\n",
    "\n",
    "else:\n",
    "    print('Using only BFE pts')\n",
    "    # Concat and Triangulate\n",
    "    all_pts_multigeom = MultiPoint(bfe_pts_84.geometry.to_list())\n",
    "\n",
    "    tin = triangulate(all_pts_multigeom)\n",
    "    tin_df = g(tin, 4326)\n",
    "\n",
    "    # Extract Geom\n",
    "    final_tin = extract_geom(tin_df)\n",
    "    #final_tin = final_tin.overlay(f) #(final_tin.geometry.centroid.within(f.geometry[0])) |\n",
    "                        \n",
    "    triangles = pd.concat([triangles, final_tin], ignore_index=True)"
   ]
  },
  {
   "cell_type": "code",
   "execution_count": 260,
   "metadata": {},
   "outputs": [],
   "source": [
    "triangles.to_file(f'{test}_triangles.shp')"
   ]
  }
 ],
 "metadata": {
  "interpreter": {
   "hash": "f68bc5b5beef77b2fc41f1b2da42ef9afbd33ecff40bab22baa8ebed873e82ae"
  },
  "kernelspec": {
   "display_name": "Python 3.10.4",
   "language": "python",
   "name": "python3"
  },
  "language_info": {
   "codemirror_mode": {
    "name": "ipython",
    "version": 3
   },
   "file_extension": ".py",
   "mimetype": "text/x-python",
   "name": "python",
   "nbconvert_exporter": "python",
   "pygments_lexer": "ipython3",
   "version": "3.10.4"
  },
  "orig_nbformat": 4
 },
 "nbformat": 4,
 "nbformat_minor": 2
}
