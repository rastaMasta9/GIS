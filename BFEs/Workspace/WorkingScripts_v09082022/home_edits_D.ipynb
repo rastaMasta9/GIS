{
 "cells": [
  {
   "cell_type": "code",
   "execution_count": 1,
   "id": "a65c81c5",
   "metadata": {},
   "outputs": [],
   "source": [
    "from methods_fromhome import *\n",
    "import geopandas as gpd\n",
    "import pandas as pd"
   ]
  },
  {
   "cell_type": "code",
   "execution_count": 2,
   "id": "51c8339d",
   "metadata": {},
   "outputs": [],
   "source": [
    "bfe = gpd.read_file('bfe_mre_all.shp')\n",
    "fsp = gpd.read_file('fsp_sample_mre1.shp')\n",
    "fl = gpd.read_file('Flowline_Forks.shp')\n",
    "\n",
    "# Reproject files to UTM\n",
    "bfe.to_crs(26913, inplace=True)\n",
    "bfe = bfe[['ELEV', 'geometry']]\n",
    "\n",
    "fsp.to_crs(26913, inplace=True)\n",
    "fsp = fsp[['geometry']]\n",
    "fsp.reset_index(inplace=True)\n",
    "\n",
    "fl.to_crs(26913, inplace=True)\n",
    "fl = fl[['geometry']]\n",
    "fl.reset_index(inplace=True)\n"
   ]
  },
  {
   "cell_type": "code",
   "execution_count": 3,
   "id": "018796d4",
   "metadata": {},
   "outputs": [],
   "source": [
    "# Extend BFEs over FSP Poly\n",
    "bfe_extend = extend_bfe(bfe, fsp)\n",
    "\n",
    "# Split FSP Poly by extended BFEs\n",
    "fsp_s = split_fsp(fsp, bfe_extend)\n",
    "\n",
    "# Split Flowline by BFEs\n",
    "fl = split_flowline(fl, bfe)"
   ]
  },
  {
   "cell_type": "code",
   "execution_count": 4,
   "id": "a3132d69",
   "metadata": {},
   "outputs": [],
   "source": [
    "# 4: Find Forks from Adj flowline segments\n",
    "def find_forks(flowline):\n",
    "    forks_list = []\n",
    "    for i, f in flowline.iterrows():\n",
    "        p1, p2 = f.geometry.boundary\n",
    "        p1b = g(p1.buffer(5), 26913)\n",
    "        p2b = g(p2.buffer(5), 26913)\n",
    "        p1j = p1b.sjoin(flowline)\n",
    "        p2j = p2b.sjoin(flowline)\n",
    "        if p1j.shape[0] == 3:\n",
    "            forks_list.append(p1j['index_right'].to_list())\n",
    "        if p2j.shape[0] == 3:\n",
    "            forks_list.append(p2j['index_right'].to_list())\n",
    "    \n",
    "    forks_list.sort()\n",
    "    forks_list = list(f for f,_ in itertools.groupby(forks_list))\n",
    "    \n",
    "    return forks_list\n"
   ]
  },
  {
   "cell_type": "code",
   "execution_count": 5,
   "id": "08a420f0",
   "metadata": {},
   "outputs": [],
   "source": [
    "forks_ls = find_forks(fl)"
   ]
  },
  {
   "cell_type": "code",
   "execution_count": 6,
   "id": "0425d2c9",
   "metadata": {},
   "outputs": [
    {
     "data": {
      "text/plain": [
       "[[0, 11, 10], [18, 6, 20], [22, 19, 21], [25, 17, 24], [28, 26, 27]]"
      ]
     },
     "execution_count": 6,
     "metadata": {},
     "output_type": "execute_result"
    }
   ],
   "source": [
    "forks_ls"
   ]
  },
  {
   "cell_type": "code",
   "execution_count": 7,
   "id": "3179335c",
   "metadata": {},
   "outputs": [],
   "source": [
    "fl['buff'] = fl.apply(lambda x: x.geometry.buffer(1))\n",
    "fl_buff = fl.set_geometry('buff')\n",
    "fl_buff = fl_buff[['buff']]\n",
    "fl = fl[['geometry']]"
   ]
  },
  {
   "cell_type": "code",
   "execution_count": 8,
   "id": "065dbc57",
   "metadata": {},
   "outputs": [],
   "source": [
    "# get fl_segs that are forks\n",
    "all_fsegs_forks = [segs for e in forks_ls for segs in e]\n",
    "non_forks = fl.loc[~fl.index.isin(all_fsegs_forks)]"
   ]
  },
  {
   "cell_type": "code",
   "execution_count": 9,
   "id": "f8dbb273",
   "metadata": {},
   "outputs": [],
   "source": [
    "fl_non_forks = fl.loc[~fl.index.isin(all_fsegs_forks)].reset_index()\n",
    "fl_buff_non_forks = fl_buff.loc[~fl_buff.index.isin(all_fsegs_forks)].reset_index()"
   ]
  },
  {
   "cell_type": "code",
   "execution_count": 10,
   "id": "18e0160c",
   "metadata": {},
   "outputs": [
    {
     "name": "stdout",
     "output_type": "stream",
     "text": [
      "ITS FAKE!\n",
      "ITS FAKE!\n",
      "ITS FAKE!\n",
      "ITS FAKE!\n",
      "ITS FAKE!\n",
      "ITS FAKE!\n",
      "ITS FAKE!\n",
      "ITS FAKE!\n"
     ]
    }
   ],
   "source": [
    "triangles = gpd.GeoDataFrame()\n",
    "for i, f in fl_non_forks.iterrows():\n",
    "    fl_buff_i = fl_buff_non_forks.loc[fl_buff_non_forks['index'] == f['index']]\n",
    "    \n",
    "    bfe_set = bfe.sjoin(fl_buff_i, how='left', predicate='intersects')\n",
    "    bfe_set = bfe_set.loc[bfe_set['index_right'].notnull()]\n",
    "    bfe_set = bfe_set[['ELEV', 'geometry']]\n",
    "    if bfe_set.shape[0] == 1:\n",
    "        pass\n",
    "    else:\n",
    "        # Getting Z-geom for BFE Points\n",
    "        bfe_pts = bfe_zpts(bfe_set)\n",
    "\n",
    "        # BFE Centroid and Flowline interpolation\n",
    "        fl_i_pts = flowline_interpolation(bfe_set, \n",
    "                                            f,\n",
    "                                            line_segs=None,\n",
    "                                            buff_segments=None, \n",
    "                                            divisions=15, \n",
    "                                            power=2\n",
    "        )\n",
    "                                            \n",
    "        # FSP Simplify\n",
    "        fsp_pts = fsp_pts_simplify(fsp_s, fl_i_pts, tolerance=3)\n",
    "\n",
    "        # FSP Interpolation\n",
    "        fsp_i_pts = IDW(bfe_set, fsp_pts, power=2)\n",
    "\n",
    "        # Concat and Triangulate\n",
    "        all_pts = pd.concat([bfe_pts, fl_i_pts, fsp_i_pts], ignore_index=True)\n",
    "        all_pts_multigeom = MultiPoint(all_pts.geometry.to_list())\n",
    "\n",
    "        tin = triangulate(all_pts_multigeom)\n",
    "        tin_df = g(tin, 26913)\n",
    "        \n",
    "        # Extract Geom\n",
    "        final_tin = extract_geom(tin_df)\n",
    "        triangles = pd.concat([triangles, final_tin], ignore_index=True)\n",
    "\n",
    "fork_triangles = gpd.GeoDataFrame()\n",
    "for f in forks_ls:\n",
    "    f_segs, f_union, buff_segs, buff_union = union_fork(f, fl, fl_buff)\n",
    "    bfe_set = bfe.sjoin(buff_union, how='left', predicate='intersects')\n",
    "    bfe_set = bfe_set.loc[bfe_set['index_right'].notnull()]\n",
    "    bfe_set = bfe_set[['ELEV', 'geometry']]\n",
    "    \n",
    "    # Getting Z-geom for BFE Points\n",
    "    bfe_pts = bfe_zpts(bfe_set)\n",
    "\n",
    "    if bfe_set.shape[0] == 2:\n",
    "        fake_fork = True\n",
    "    else:\n",
    "        fake_fork = False\n",
    "\n",
    "    f_interp_df = flowline_interpolation(bfe_set, \n",
    "                                        f_union,\n",
    "                                        f_segs,\n",
    "                                        buff_segs, \n",
    "                                        divisions=15, \n",
    "                                        power=2, \n",
    "                                        fork='yes', \n",
    "                                        non_fork=fake_fork\n",
    "    )\n",
    "\n",
    "    # FSP Simplify and interpolation\n",
    "    fsp_pts = fsp_pts_simplify(fsp_s, f_interp_df, tolerance=3)\n",
    "    fsp_interp_df = IDW_Forks(bfe_set, \n",
    "                                fsp_pts, \n",
    "                                power=2, \n",
    "                                non_fork=fake_fork\n",
    "    )\n",
    "    \n",
    "    # Concat and Triangulate\n",
    "    all_pts_f = pd.concat([bfe_pts, f_interp_df, fsp_interp_df], ignore_index=True)\n",
    "\n",
    "    all_pts_multigeom_f = MultiPoint(all_pts_f.geometry.to_list())\n",
    "\n",
    "    tin_f = triangulate(all_pts_multigeom_f)\n",
    "    tin_df_f = g(tin_f, 26913)\n",
    "    \n",
    "    # Extract Geom\n",
    "    final_tin_f = extract_geom(tin_df_f)\n",
    "    fork_triangles = pd.concat([fork_triangles, final_tin_f], ignore_index=True)\n",
    "\n",
    "all_triangles = pd.concat([triangles, fork_triangles], ignore_index=True)\n",
    "all_triangles.to_file('all_tri_12_2.shp')\n",
    "\n",
    "\n",
    "\n"
   ]
  },
  {
   "cell_type": "code",
   "execution_count": 34,
   "id": "aba1f0d5",
   "metadata": {},
   "outputs": [
    {
     "data": {
      "text/plain": [
       "[[0, 11, 10], [18, 6, 20], [22, 19, 21], [25, 17, 24], [28, 26, 27]]"
      ]
     },
     "execution_count": 34,
     "metadata": {},
     "output_type": "execute_result"
    }
   ],
   "source": [
    "forks_ls"
   ]
  },
  {
   "cell_type": "code",
   "execution_count": 38,
   "id": "482c98ee",
   "metadata": {},
   "outputs": [
    {
     "name": "stdout",
     "output_type": "stream",
     "text": [
      "[0, 11, 10]\n",
      "ITS FAKE!\n",
      "ITS FAKE!\n",
      "[18, 6, 20]\n",
      "ITS FAKE!\n",
      "ITS FAKE!\n",
      "[22, 19, 21]\n",
      "ITS FAKE!\n",
      "ITS FAKE!\n",
      "[25, 17, 24]\n",
      "[28, 26, 27]\n",
      "ITS FAKE!\n",
      "ITS FAKE!\n"
     ]
    }
   ],
   "source": [
    "fork_triangles = gpd.GeoDataFrame()\n",
    "for f in forks_ls:\n",
    "    print(f)\n",
    "    f_segs, f_union, buff_segs, buff_union = union_fork(f, fl, fl_buff)\n",
    "    bfe_set = bfe.sjoin(buff_union, how='left', predicate='intersects')\n",
    "    bfe_set = bfe_set.loc[bfe_set['index_right'].notnull()]\n",
    "    bfe_set = bfe_set[['ELEV', 'geometry']]\n",
    "    \n",
    "    # Getting Z-geom for BFE Points\n",
    "    bfe_pts = bfe_zpts(bfe_set)\n",
    "\n",
    "    if bfe_set.shape[0] == 2:\n",
    "        fake_fork = True\n",
    "    else:\n",
    "        fake_fork = False\n",
    "\n",
    "    f_interp_df = flowline_interpolation(bfe_set, \n",
    "                                        f_union,\n",
    "                                        f_segs,\n",
    "                                        buff_segs, \n",
    "                                        divisions=15, \n",
    "                                        power=2, \n",
    "                                        fork='yes', \n",
    "                                        non_fork=fake_fork\n",
    "    )\n",
    "\n",
    "    # FSP Simplify and interpolation\n",
    "    fsp_pts = fsp_pts_simplify(fsp_s, f_interp_df, tolerance=3)\n",
    "    fsp_interp_df = IDW_Forks(bfe_set, \n",
    "                                fsp_pts, \n",
    "                                power=2, \n",
    "                                non_fork=fake_fork\n",
    "    )\n",
    "    \n",
    "    # Concat and Triangulate\n",
    "    all_pts_f = pd.concat([bfe_pts, f_interp_df, fsp_interp_df], ignore_index=True)\n",
    "\n",
    "    all_pts_multigeom_f = MultiPoint(all_pts_f.geometry.to_list())\n",
    "\n",
    "    tin_f = triangulate(all_pts_multigeom_f)\n",
    "    tin_df_f = g(tin_f, 26913)\n",
    "    \n",
    "    # Extract Geom\n",
    "    final_tin_f = extract_geom(tin_df_f)\n",
    "    fork_triangles = pd.concat([fork_triangles, final_tin_f], ignore_index=True)\n",
    "\n"
   ]
  },
  {
   "cell_type": "code",
   "execution_count": 39,
   "id": "d00e8913",
   "metadata": {},
   "outputs": [],
   "source": [
    "fork_triangles.to_file('fork_tri_12_5.shp')"
   ]
  },
  {
   "cell_type": "code",
   "execution_count": null,
   "id": "e5582fff",
   "metadata": {},
   "outputs": [],
   "source": []
  }
 ],
 "metadata": {
  "kernelspec": {
   "display_name": "Python 3 (ipykernel)",
   "language": "python",
   "name": "python3"
  },
  "language_info": {
   "codemirror_mode": {
    "name": "ipython",
    "version": 3
   },
   "file_extension": ".py",
   "mimetype": "text/x-python",
   "name": "python",
   "nbconvert_exporter": "python",
   "pygments_lexer": "ipython3",
   "version": "3.10.4"
  },
  "varInspector": {
   "cols": {
    "lenName": 16,
    "lenType": 16,
    "lenVar": 40
   },
   "kernels_config": {
    "python": {
     "delete_cmd_postfix": "",
     "delete_cmd_prefix": "del ",
     "library": "var_list.py",
     "varRefreshCmd": "print(var_dic_list())"
    },
    "r": {
     "delete_cmd_postfix": ") ",
     "delete_cmd_prefix": "rm(",
     "library": "var_list.r",
     "varRefreshCmd": "cat(var_dic_list()) "
    }
   },
   "types_to_exclude": [
    "module",
    "function",
    "builtin_function_or_method",
    "instance",
    "_Feature"
   ],
   "window_display": false
  }
 },
 "nbformat": 4,
 "nbformat_minor": 5
}
