{
 "cells": [
  {
   "cell_type": "code",
   "execution_count": 24,
   "id": "f29b19a6",
   "metadata": {},
   "outputs": [],
   "source": [
    "from methods_fromhome import *\n",
    "import geopandas as gpd\n",
    "from shapely.geometry import LinearRing\n",
    "from shapely.geometry import LineString"
   ]
  },
  {
   "cell_type": "code",
   "execution_count": 25,
   "id": "0a2762ec",
   "metadata": {},
   "outputs": [],
   "source": [
    "def getExtrapoledLine(p1,p2):\n",
    "    'Creates a line extrapoled in p1->p2 direction'\n",
    "    EXTRAPOL_RATIO = 10\n",
    "    a = p1\n",
    "    b = (p1[0]+EXTRAPOL_RATIO*(p2[0]-p1[0]), p1[1]+EXTRAPOL_RATIO*(p2[1]-p1[1]) )\n",
    "    return LineString([a,b])"
   ]
  },
  {
   "cell_type": "code",
   "execution_count": 10,
   "id": "7a0a7dfd",
   "metadata": {},
   "outputs": [],
   "source": [
    "bfe = gpd.read_file('bfe_mre_all_poc2.shp')\n",
    "fsp = gpd.read_file('fsp_2.shp')\n",
    "\n",
    "# Reproject files to UTM\n",
    "bfe.to_crs(26913, inplace=True)\n",
    "bfe = bfe[['ELEV', 'geometry']]\n",
    "\n",
    "fsp.to_crs(26913, inplace=True)\n",
    "fsp = fsp[['geometry']]\n",
    "fsp.reset_index(inplace=True)"
   ]
  },
  {
   "cell_type": "code",
   "execution_count": 11,
   "id": "09a4cf19",
   "metadata": {},
   "outputs": [],
   "source": [
    "bfe = bfe.iloc[198]\n"
   ]
  },
  {
   "cell_type": "code",
   "execution_count": 12,
   "id": "ea81bafa",
   "metadata": {},
   "outputs": [
    {
     "data": {
      "text/plain": [
       "ELEV                                                    546.0\n",
       "geometry    LINESTRING (1267200.0598928416 3636397.6547400...\n",
       "Name: 198, dtype: object"
      ]
     },
     "execution_count": 12,
     "metadata": {},
     "output_type": "execute_result"
    }
   ],
   "source": [
    "bfe"
   ]
  },
  {
   "cell_type": "code",
   "execution_count": 20,
   "id": "6d9d2a10",
   "metadata": {},
   "outputs": [],
   "source": [
    "fsp_ext = fsp.geometry.exterior[0]"
   ]
  },
  {
   "cell_type": "code",
   "execution_count": 22,
   "id": "ca5d4683",
   "metadata": {},
   "outputs": [],
   "source": [
    "l_coords = list(bfe.geometry.coords)"
   ]
  },
  {
   "cell_type": "code",
   "execution_count": 26,
   "id": "4ffaa9cd",
   "metadata": {},
   "outputs": [
    {
     "data": {
      "image/svg+xml": "<svg xmlns=\"http://www.w3.org/2000/svg\" xmlns:xlink=\"http://www.w3.org/1999/xlink\" width=\"100.0\" height=\"300\" viewBox=\"1267210.8619582918 3636554.435372593 69.17479660967365 368.7680276846513\" preserveAspectRatio=\"xMinYMin meet\"><g transform=\"matrix(1,0,0,-1,0,7273477.63877287)\"><polyline fill=\"none\" stroke=\"#66cc99\" stroke-width=\"2.4584535178976754\" points=\"1267224.5200333912,3636568.093447692 1267266.3786798022,3636909.545325178\" opacity=\"0.8\" /></g></svg>",
      "text/plain": [
       "<shapely.geometry.linestring.LineString at 0x1bd2dc65300>"
      ]
     },
     "execution_count": 26,
     "metadata": {},
     "output_type": "execute_result"
    }
   ],
   "source": [
    "ext_line = getExtrapoledLine(*l_coords[-2:])\n",
    "ext_line"
   ]
  },
  {
   "cell_type": "code",
   "execution_count": 27,
   "id": "385a588a",
   "metadata": {},
   "outputs": [],
   "source": [
    "df = g(ext_line, 26913)\n",
    "df.to_file('ext_line.shp')"
   ]
  },
  {
   "cell_type": "code",
   "execution_count": 28,
   "id": "dd5e024b",
   "metadata": {},
   "outputs": [],
   "source": [
    "if fsp_ext.intersects(ext_line):\n",
    "    pts = fsp_ext.intersection(ext_line)\n",
    "    npts = list(pts.coords)[0]\n",
    "else:\n",
    "    print('Problem')"
   ]
  },
  {
   "cell_type": "code",
   "execution_count": 29,
   "id": "9b8c4fed",
   "metadata": {},
   "outputs": [
    {
     "data": {
      "image/svg+xml": "<svg xmlns=\"http://www.w3.org/2000/svg\" xmlns:xlink=\"http://www.w3.org/1999/xlink\" width=\"100.0\" height=\"221.04137386754155\" viewBox=\"1267191.8586545698 3636389.4680224885 45.04426390421577 221.04137386754155\" preserveAspectRatio=\"xMinYMin meet\"><g transform=\"matrix(1,0,0,-1,0,7272999.977418845)\"><polyline fill=\"none\" stroke=\"#66cc99\" stroke-width=\"2.0\" points=\"1267200.0598928416,3636397.6547400393 1267200.0453721206,3636415.0123600396 1267224.5200333912,3636568.093447692 1267228.7058980323,3636602.238635441 1267228.7162009233,3636602.3226788053\" opacity=\"0.8\" /></g></svg>",
      "text/plain": [
       "<shapely.geometry.linestring.LineString at 0x1bd2dc2e740>"
      ]
     },
     "execution_count": 29,
     "metadata": {},
     "output_type": "execute_result"
    }
   ],
   "source": [
    "l_coords.append(npts)\n",
    "nline = LineString(l_coords)\n",
    "nline"
   ]
  },
  {
   "cell_type": "code",
   "execution_count": 30,
   "id": "b4c61d98",
   "metadata": {},
   "outputs": [],
   "source": [
    "ndf = g(nline, 26913)\n",
    "ndf.to_file('new_line.shp')"
   ]
  },
  {
   "cell_type": "code",
   "execution_count": null,
   "id": "9867a725",
   "metadata": {},
   "outputs": [],
   "source": []
  }
 ],
 "metadata": {
  "interpreter": {
   "hash": "f68bc5b5beef77b2fc41f1b2da42ef9afbd33ecff40bab22baa8ebed873e82ae"
  },
  "kernelspec": {
   "display_name": "Python [conda env:geopandas] *",
   "language": "python",
   "name": "python3"
  },
  "language_info": {
   "codemirror_mode": {
    "name": "ipython",
    "version": 3
   },
   "file_extension": ".py",
   "mimetype": "text/x-python",
   "name": "python",
   "nbconvert_exporter": "python",
   "pygments_lexer": "ipython3",
   "version": "3.10.4"
  }
 },
 "nbformat": 4,
 "nbformat_minor": 5
}
