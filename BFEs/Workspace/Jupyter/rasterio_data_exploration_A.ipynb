{
 "cells": [
  {
   "cell_type": "code",
   "execution_count": 1,
   "id": "623a8671",
   "metadata": {},
   "outputs": [],
   "source": [
    "import rasterio"
   ]
  },
  {
   "cell_type": "code",
   "execution_count": 3,
   "id": "9ec4efd3",
   "metadata": {},
   "outputs": [],
   "source": [
    "fi = rasterio.open(r'D:\\Projects\\GM\\DSM_Team\\Texas\\Dallas\\usgs19-70cm_14SPB9236_DSM.tif')"
   ]
  },
  {
   "cell_type": "code",
   "execution_count": 4,
   "id": "680e21ca",
   "metadata": {},
   "outputs": [
    {
     "data": {
      "text/plain": [
       "1"
      ]
     },
     "execution_count": 4,
     "metadata": {},
     "output_type": "execute_result"
    }
   ],
   "source": [
    "fi.count"
   ]
  },
  {
   "cell_type": "code",
   "execution_count": 5,
   "id": "8253397b",
   "metadata": {},
   "outputs": [
    {
     "data": {
      "text/plain": [
       "'r'"
      ]
     },
     "execution_count": 5,
     "metadata": {},
     "output_type": "execute_result"
    }
   ],
   "source": [
    "fi.mode"
   ]
  },
  {
   "cell_type": "code",
   "execution_count": 6,
   "id": "0844b981",
   "metadata": {},
   "outputs": [
    {
     "data": {
      "text/plain": [
       "BoundingBox(left=-96.95376901512432, bottom=32.845102875389124, right=-96.93742866010619, top=32.85889201500036)"
      ]
     },
     "execution_count": 6,
     "metadata": {},
     "output_type": "execute_result"
    }
   ],
   "source": [
    "fi.bounds"
   ]
  },
  {
   "cell_type": "code",
   "execution_count": 9,
   "id": "01680bfe",
   "metadata": {},
   "outputs": [
    {
     "data": {
      "text/plain": [
       "BoundingBox(left=-96.95376901512432, bottom=32.845102875389124, right=-96.93742866010619, top=32.85889201500036)"
      ]
     },
     "execution_count": 9,
     "metadata": {},
     "output_type": "execute_result"
    }
   ],
   "source": [
    "fi.bounds"
   ]
  },
  {
   "cell_type": "code",
   "execution_count": 10,
   "id": "cd2778a7",
   "metadata": {},
   "outputs": [
    {
     "data": {
      "text/plain": [
       "CRS.from_epsg(4326)"
      ]
     },
     "execution_count": 10,
     "metadata": {},
     "output_type": "execute_result"
    }
   ],
   "source": [
    "fi.crs"
   ]
  },
  {
   "cell_type": "code",
   "execution_count": 11,
   "id": "98a95121",
   "metadata": {},
   "outputs": [
    {
     "data": {
      "text/plain": [
       "(1,)"
      ]
     },
     "execution_count": 11,
     "metadata": {},
     "output_type": "execute_result"
    }
   ],
   "source": [
    "fi.indexes"
   ]
  },
  {
   "cell_type": "code",
   "execution_count": 12,
   "id": "b56d1ef3",
   "metadata": {},
   "outputs": [],
   "source": [
    "band1 = fi.read(1)"
   ]
  },
  {
   "cell_type": "code",
   "execution_count": 15,
   "id": "aa2354ed",
   "metadata": {},
   "outputs": [
    {
     "data": {
      "text/plain": [
       "171.09009"
      ]
     },
     "execution_count": 15,
     "metadata": {},
     "output_type": "execute_result"
    }
   ],
   "source": [
    "band1[100, 26]"
   ]
  },
  {
   "cell_type": "code",
   "execution_count": 16,
   "id": "3d40d2fe",
   "metadata": {},
   "outputs": [],
   "source": [
    "from osgeo import gdal"
   ]
  },
  {
   "cell_type": "code",
   "execution_count": 18,
   "id": "e4c825e5",
   "metadata": {},
   "outputs": [],
   "source": [
    "dem = gdal.Open(r'D:\\Projects\\GM\\DSM_Team\\Texas\\Dallas\\usgs19-70cm_14SPB9236_DSM.tif')"
   ]
  },
  {
   "cell_type": "code",
   "execution_count": 19,
   "id": "22c0eb68",
   "metadata": {},
   "outputs": [],
   "source": [
    "gt = dem.GetGeoTransform()"
   ]
  },
  {
   "cell_type": "code",
   "execution_count": 24,
   "id": "1b769efd",
   "metadata": {},
   "outputs": [
    {
     "ename": "AttributeError",
     "evalue": "'Dataset' object has no attribute 'GetFeature'",
     "output_type": "error",
     "traceback": [
      "\u001b[1;31m---------------------------------------------------------------------------\u001b[0m",
      "\u001b[1;31mAttributeError\u001b[0m                            Traceback (most recent call last)",
      "Input \u001b[1;32mIn [24]\u001b[0m, in \u001b[0;36m<cell line: 1>\u001b[1;34m()\u001b[0m\n\u001b[1;32m----> 1\u001b[0m geom \u001b[38;5;241m=\u001b[39m \u001b[43mdem\u001b[49m\u001b[38;5;241;43m.\u001b[39;49m\u001b[43mGetFeature\u001b[49m(\u001b[38;5;241m0\u001b[39m)\n\u001b[0;32m      2\u001b[0m geom\n",
      "File \u001b[1;32mD:\\mini-forge\\envs\\geopandas\\lib\\site-packages\\osgeo\\gdal.py:2287\u001b[0m, in \u001b[0;36mDataset.<lambda>\u001b[1;34m(self, name)\u001b[0m\n\u001b[0;32m   2285\u001b[0m \u001b[38;5;28;01mfor\u001b[39;00m _s \u001b[38;5;129;01min\u001b[39;00m [MajorObject]:\n\u001b[0;32m   2286\u001b[0m     __swig_getmethods__\u001b[38;5;241m.\u001b[39mupdate(\u001b[38;5;28mgetattr\u001b[39m(_s, \u001b[38;5;124m'\u001b[39m\u001b[38;5;124m__swig_getmethods__\u001b[39m\u001b[38;5;124m'\u001b[39m, {}))\n\u001b[1;32m-> 2287\u001b[0m \u001b[38;5;21m__getattr__\u001b[39m \u001b[38;5;241m=\u001b[39m \u001b[38;5;28;01mlambda\u001b[39;00m \u001b[38;5;28mself\u001b[39m, name: \u001b[43m_swig_getattr\u001b[49m\u001b[43m(\u001b[49m\u001b[38;5;28;43mself\u001b[39;49m\u001b[43m,\u001b[49m\u001b[43m \u001b[49m\u001b[43mDataset\u001b[49m\u001b[43m,\u001b[49m\u001b[43m \u001b[49m\u001b[43mname\u001b[49m\u001b[43m)\u001b[49m\n\u001b[0;32m   2289\u001b[0m \u001b[38;5;28;01mdef\u001b[39;00m \u001b[38;5;21m__init__\u001b[39m(\u001b[38;5;28mself\u001b[39m, \u001b[38;5;241m*\u001b[39margs, \u001b[38;5;241m*\u001b[39m\u001b[38;5;241m*\u001b[39mkwargs):\n\u001b[0;32m   2290\u001b[0m     \u001b[38;5;28;01mraise\u001b[39;00m \u001b[38;5;167;01mAttributeError\u001b[39;00m(\u001b[38;5;124m\"\u001b[39m\u001b[38;5;124mNo constructor defined\u001b[39m\u001b[38;5;124m\"\u001b[39m)\n",
      "File \u001b[1;32mD:\\mini-forge\\envs\\geopandas\\lib\\site-packages\\osgeo\\gdal.py:80\u001b[0m, in \u001b[0;36m_swig_getattr\u001b[1;34m(self, class_type, name)\u001b[0m\n\u001b[0;32m     78\u001b[0m \u001b[38;5;28;01mif\u001b[39;00m method:\n\u001b[0;32m     79\u001b[0m     \u001b[38;5;28;01mreturn\u001b[39;00m method(\u001b[38;5;28mself\u001b[39m)\n\u001b[1;32m---> 80\u001b[0m \u001b[38;5;28;01mraise\u001b[39;00m \u001b[38;5;167;01mAttributeError\u001b[39;00m(\u001b[38;5;124m\"\u001b[39m\u001b[38;5;124m'\u001b[39m\u001b[38;5;132;01m%s\u001b[39;00m\u001b[38;5;124m'\u001b[39m\u001b[38;5;124m object has no attribute \u001b[39m\u001b[38;5;124m'\u001b[39m\u001b[38;5;132;01m%s\u001b[39;00m\u001b[38;5;124m'\u001b[39m\u001b[38;5;124m\"\u001b[39m \u001b[38;5;241m%\u001b[39m (class_type\u001b[38;5;241m.\u001b[39m\u001b[38;5;18m__name__\u001b[39m, name))\n",
      "\u001b[1;31mAttributeError\u001b[0m: 'Dataset' object has no attribute 'GetFeature'"
     ]
    }
   ],
   "source": []
  },
  {
   "cell_type": "code",
   "execution_count": 23,
   "id": "2736f235",
   "metadata": {},
   "outputs": [
    {
     "data": {
      "text/plain": [
       "8.983152841194469e-06"
      ]
     },
     "execution_count": 23,
     "metadata": {},
     "output_type": "execute_result"
    }
   ],
   "source": [
    "rx = int((x - gt[0]) / gt[1])\n",
    "ry = int(())"
   ]
  },
  {
   "cell_type": "code",
   "execution_count": null,
   "id": "c596c6c8",
   "metadata": {},
   "outputs": [],
   "source": []
  }
 ],
 "metadata": {
  "kernelspec": {
   "display_name": "Python [conda env:geopandas] *",
   "language": "python",
   "name": "conda-env-geopandas-py"
  },
  "language_info": {
   "codemirror_mode": {
    "name": "ipython",
    "version": 3
   },
   "file_extension": ".py",
   "mimetype": "text/x-python",
   "name": "python",
   "nbconvert_exporter": "python",
   "pygments_lexer": "ipython3",
   "version": "3.10.4"
  }
 },
 "nbformat": 4,
 "nbformat_minor": 5
}
