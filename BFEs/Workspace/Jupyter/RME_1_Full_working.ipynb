{
 "cells": [
  {
   "cell_type": "code",
   "execution_count": 2,
   "id": "c46d5076",
   "metadata": {},
   "outputs": [],
   "source": []
  },
  {
   "cell_type": "code",
   "execution_count": 1,
   "id": "7f15c62f",
   "metadata": {},
   "outputs": [
    {
     "ename": "KeyboardInterrupt",
     "evalue": "",
     "output_type": "error",
     "traceback": [
      "\u001b[1;31m---------------------------------------------------------------------------\u001b[0m",
      "\u001b[1;31mKeyboardInterrupt\u001b[0m                         Traceback (most recent call last)",
      "File \u001b[1;32m<timed exec>:27\u001b[0m, in \u001b[0;36m<module>\u001b[1;34m\u001b[0m\n",
      "\u001b[1;31mKeyboardInterrupt\u001b[0m: "
     ]
    }
   ],
   "source": [
    "%%time\n",
    "%matplotlib inline\n",
    "import warnings\n",
    "warnings.filterwarnings('ignore')\n",
    "from shapely.ops import unary_union\n",
    "import matplotlib.pyplot as plt\n",
    "import geopandas as gpd\n",
    "import numpy as np\n",
    "import rasterio\n",
    "\n",
    "bf = gpd.read_file('BFE.shp')\n",
    "\n",
    "spacing = 0.00001\n",
    "dist = np.arange(0, bf.length[0], spacing)\n",
    "pts = [bf.boundary[0].interpolate(d) for d in dist] + [bf.boundary[0]]\n",
    "\n",
    "multipoint = unary_union(pts)\n",
    "pt_feature = gpd.GeoDataFrame(geometry=[multipoint], crs='EPSG:4326')\n",
    "\n",
    "pt_feature = pt_feature.geometry.explode(index_parts=False)\n",
    "pt_final = gpd.GeoDataFrame(geometry=pt_feature.iloc[:-2].geometry, crs='EPSG:4326')\n",
    "\n",
    "rast = rasterio.open('dallas_1m.tif')\n",
    "for p in pt_final['geometry']:\n",
    "    x = p.xy[0][0]\n",
    "    y = p.xy[1][0]\n",
    "    r,c = rast.index(x,y)\n",
    "    pt_final.loc[pt_final['geometry'] == p, 'elevation'] = rast.read(1)[r,c]"
   ]
  },
  {
   "cell_type": "code",
   "execution_count": 5,
   "id": "ea743646",
   "metadata": {},
   "outputs": [
    {
     "name": "stdout",
     "output_type": "stream",
     "text": [
      "mean 133.8877599382791\n",
      "std 8.872867672353848\n"
     ]
    }
   ],
   "source": [
    "elv = pt_final.loc[pt_final['elevation'].notnull()]\n",
    "print('mean', elv['elevation'].mean())\n",
    "print('std', elv['elevation'].std())"
   ]
  },
  {
   "cell_type": "code",
   "execution_count": null,
   "id": "e24b2239",
   "metadata": {},
   "outputs": [],
   "source": []
  }
 ],
 "metadata": {
  "kernelspec": {
   "display_name": "Python [conda env:geopandas] *",
   "language": "python",
   "name": "conda-env-geopandas-py"
  },
  "language_info": {
   "codemirror_mode": {
    "name": "ipython",
    "version": 3
   },
   "file_extension": ".py",
   "mimetype": "text/x-python",
   "name": "python",
   "nbconvert_exporter": "python",
   "pygments_lexer": "ipython3",
   "version": "3.10.4"
  }
 },
 "nbformat": 4,
 "nbformat_minor": 5
}
