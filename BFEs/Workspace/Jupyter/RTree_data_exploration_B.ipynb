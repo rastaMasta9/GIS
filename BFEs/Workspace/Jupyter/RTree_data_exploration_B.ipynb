{
 "cells": [
  {
   "cell_type": "code",
   "execution_count": 16,
   "id": "59db0eb4",
   "metadata": {},
   "outputs": [],
   "source": [
    "pt = gpd.read_file(r'D:\\Projects\\FireStations_Build\\2022_07\\Library\\Outputs\\finals\\FireStation_2022_07.shp')\n",
    "co = gpd.read_file(r'D:\\INTERNAL_DATA\\TaxandBoundary_05242022.gdb', driver='FileGDB', layer='County_2022_04')"
   ]
  },
  {
   "cell_type": "code",
   "execution_count": 19,
   "id": "0fe9e4b3",
   "metadata": {},
   "outputs": [],
   "source": [
    "co = co.loc[co['COUNTY'] == 'Boulder']\n",
    "pt = pt.clip(co)\n"
   ]
  },
  {
   "cell_type": "code",
   "execution_count": 20,
   "id": "e3967ccc",
   "metadata": {},
   "outputs": [
    {
     "data": {
      "text/html": [
       "<div>\n",
       "<style scoped>\n",
       "    .dataframe tbody tr th:only-of-type {\n",
       "        vertical-align: middle;\n",
       "    }\n",
       "\n",
       "    .dataframe tbody tr th {\n",
       "        vertical-align: top;\n",
       "    }\n",
       "\n",
       "    .dataframe thead th {\n",
       "        text-align: right;\n",
       "    }\n",
       "</style>\n",
       "<table border=\"1\" class=\"dataframe\">\n",
       "  <thead>\n",
       "    <tr style=\"text-align: right;\">\n",
       "      <th></th>\n",
       "      <th>FIPSSTCO</th>\n",
       "      <th>STATE</th>\n",
       "      <th>COUNTY</th>\n",
       "      <th>CITY_NAME</th>\n",
       "      <th>CITY_TYPE</th>\n",
       "      <th>ST_PL_FIPS</th>\n",
       "      <th>PL_FIPS</th>\n",
       "      <th>CLASS_CODE</th>\n",
       "      <th>INC_FLAG</th>\n",
       "      <th>DT_ANX</th>\n",
       "      <th>DT_UPD</th>\n",
       "      <th>DT_VRF</th>\n",
       "      <th>CO_GNIS</th>\n",
       "      <th>PARCEL_ALN</th>\n",
       "      <th>Shape_Length</th>\n",
       "      <th>Shape_Area</th>\n",
       "      <th>geometry</th>\n",
       "    </tr>\n",
       "  </thead>\n",
       "  <tbody>\n",
       "    <tr>\n",
       "      <th>199</th>\n",
       "      <td>08013</td>\n",
       "      <td>Colorado</td>\n",
       "      <td>Boulder</td>\n",
       "      <td></td>\n",
       "      <td></td>\n",
       "      <td>0800000</td>\n",
       "      <td>00000</td>\n",
       "      <td>H1</td>\n",
       "      <td>0</td>\n",
       "      <td>072009</td>\n",
       "      <td>032015</td>\n",
       "      <td>032015</td>\n",
       "      <td>198122</td>\n",
       "      <td></td>\n",
       "      <td>2.365106</td>\n",
       "      <td>0.202578</td>\n",
       "      <td>MULTIPOLYGON (((-105.05769 39.97360, -105.0577...</td>\n",
       "    </tr>\n",
       "  </tbody>\n",
       "</table>\n",
       "</div>"
      ],
      "text/plain": [
       "    FIPSSTCO     STATE   COUNTY CITY_NAME CITY_TYPE ST_PL_FIPS PL_FIPS  \\\n",
       "199    08013  Colorado  Boulder                        0800000   00000   \n",
       "\n",
       "    CLASS_CODE INC_FLAG  DT_ANX  DT_UPD  DT_VRF CO_GNIS PARCEL_ALN  \\\n",
       "199         H1        0  072009  032015  032015  198122              \n",
       "\n",
       "     Shape_Length  Shape_Area  \\\n",
       "199      2.365106    0.202578   \n",
       "\n",
       "                                              geometry  \n",
       "199  MULTIPOLYGON (((-105.05769 39.97360, -105.0577...  "
      ]
     },
     "execution_count": 20,
     "metadata": {},
     "output_type": "execute_result"
    }
   ],
   "source": [
    "co"
   ]
  },
  {
   "cell_type": "code",
   "execution_count": 1,
   "id": "06dad0f1",
   "metadata": {},
   "outputs": [],
   "source": [
    "import itertools\n",
    "from operator import itemgetter\n",
    "\n",
    "import geopandas as gpd\n",
    "import numpy as np\n",
    "import pandas as pd\n",
    "\n",
    "from scipy.spatial import cKDTree\n",
    "from shapely.geometry import Point, LineString\n",
    "\n",
    "gpd1 = pt\n",
    "gpd2 = gpd.GeoDataFrame([['Work', LineString([Point(100, 0), Point(100, 1)])],\n",
    "                         ['Shops', LineString([Point(101, 0), Point(101, 1), Point(102, 3)])],\n",
    "                         ['Home',  LineString([Point(101, 0), Point(102, 1)])]],\n",
    "                        columns=['Place', 'geometry'])\n",
    "\n",
    "\n",
    "def ckdnearest(gdfA, gdfB, gdfB_cols=['Place']):\n",
    "    A = np.concatenate(\n",
    "        [np.array(geom.coords) for geom in gdfA.geometry.to_list()])\n",
    "    B = [np.array(geom.coords) for geom in gdfB.geometry.to_list()]\n",
    "    B_ix = tuple(itertools.chain.from_iterable(\n",
    "        [itertools.repeat(i, x) for i, x in enumerate(list(map(len, B)))]))\n",
    "    B = np.concatenate(B)\n",
    "    ckd_tree = cKDTree(B)\n",
    "    dist, idx = ckd_tree.query(A, k=1)\n",
    "    idx = itemgetter(*idx)(B_ix)\n",
    "    gdf = pd.concat(\n",
    "        [gdfA, gdfB.loc[idx, gdfB_cols].reset_index(drop=True),\n",
    "         pd.Series(dist, name='dist')], axis=1)\n",
    "    return gdf\n",
    "\n",
    "c = ckdnearest(gpd1, gpd2)"
   ]
  },
  {
   "cell_type": "code",
   "execution_count": 5,
   "id": "99e32b42",
   "metadata": {},
   "outputs": [
    {
     "data": {
      "text/plain": [
       "<AxesSubplot:>"
      ]
     },
     "execution_count": 5,
     "metadata": {},
     "output_type": "execute_result"
    },
    {
     "data": {
      "image/png": "[encoded data removed]",
      "text/plain": [
       "<Figure size 432x288 with 1 Axes>"
      ]
     },
     "metadata": {
      "needs_background": "light"
     },
     "output_type": "display_data"
    }
   ],
   "source": [
    "gpd1.plot()"
   ]
  },
  {
   "cell_type": "code",
   "execution_count": 12,
   "id": "5a29e30b",
   "metadata": {},
   "outputs": [
    {
     "data": {
      "text/html": [
       "<div>\n",
       "<style scoped>\n",
       "    .dataframe tbody tr th:only-of-type {\n",
       "        vertical-align: middle;\n",
       "    }\n",
       "\n",
       "    .dataframe tbody tr th {\n",
       "        vertical-align: top;\n",
       "    }\n",
       "\n",
       "    .dataframe thead th {\n",
       "        text-align: right;\n",
       "    }\n",
       "</style>\n",
       "<table border=\"1\" class=\"dataframe\">\n",
       "  <thead>\n",
       "    <tr style=\"text-align: right;\">\n",
       "      <th></th>\n",
       "      <th>Place</th>\n",
       "      <th>geometry</th>\n",
       "    </tr>\n",
       "  </thead>\n",
       "  <tbody>\n",
       "    <tr>\n",
       "      <th>0</th>\n",
       "      <td>Work</td>\n",
       "      <td>LINESTRING (100.00000 0.00000, 100.00000 1.00000)</td>\n",
       "    </tr>\n",
       "    <tr>\n",
       "      <th>1</th>\n",
       "      <td>Shops</td>\n",
       "      <td>LINESTRING (101.00000 0.00000, 101.00000 1.000...</td>\n",
       "    </tr>\n",
       "    <tr>\n",
       "      <th>2</th>\n",
       "      <td>Home</td>\n",
       "      <td>LINESTRING (101.00000 0.00000, 102.00000 1.00000)</td>\n",
       "    </tr>\n",
       "  </tbody>\n",
       "</table>\n",
       "</div>"
      ],
      "text/plain": [
       "   Place                                           geometry\n",
       "0   Work  LINESTRING (100.00000 0.00000, 100.00000 1.00000)\n",
       "1  Shops  LINESTRING (101.00000 0.00000, 101.00000 1.000...\n",
       "2   Home  LINESTRING (101.00000 0.00000, 102.00000 1.00000)"
      ]
     },
     "execution_count": 12,
     "metadata": {},
     "output_type": "execute_result"
    }
   ],
   "source": [
    "gpd2"
   ]
  },
  {
   "cell_type": "code",
   "execution_count": 11,
   "id": "6ab8d7e6",
   "metadata": {},
   "outputs": [
    {
     "data": {
      "text/plain": [
       "<AxesSubplot:>"
      ]
     },
     "execution_count": 11,
     "metadata": {},
     "output_type": "execute_result"
    },
    {
     "data": {
      "image/png": "[encoded data removed]",
      "text/plain": [
       "<Figure size 432x288 with 1 Axes>"
      ]
     },
     "metadata": {
      "needs_background": "light"
     },
     "output_type": "display_data"
    }
   ],
   "source": [
    "gpd2.plot()"
   ]
  },
  {
   "cell_type": "code",
   "execution_count": 15,
   "id": "4e1db6ce",
   "metadata": {},
   "outputs": [
    {
     "data": {
      "text/plain": [
       "<AxesSubplot:>"
      ]
     },
     "execution_count": 15,
     "metadata": {},
     "output_type": "execute_result"
    },
    {
     "data": {
      "image/png": "[encoded data removed]",
      "text/plain": [
       "<Figure size 432x288 with 1 Axes>"
      ]
     },
     "metadata": {
      "needs_background": "light"
     },
     "output_type": "display_data"
    }
   ],
   "source": [
    "gpd2.loc[gpd2['Place'] == 'Work'].plot()"
   ]
  },
  {
   "cell_type": "code",
   "execution_count": 8,
   "id": "15714ff8",
   "metadata": {},
   "outputs": [
    {
     "data": {
      "text/html": [
       "<div>\n",
       "<style scoped>\n",
       "    .dataframe tbody tr th:only-of-type {\n",
       "        vertical-align: middle;\n",
       "    }\n",
       "\n",
       "    .dataframe tbody tr th {\n",
       "        vertical-align: top;\n",
       "    }\n",
       "\n",
       "    .dataframe thead th {\n",
       "        text-align: right;\n",
       "    }\n",
       "</style>\n",
       "<table border=\"1\" class=\"dataframe\">\n",
       "  <thead>\n",
       "    <tr style=\"text-align: right;\">\n",
       "      <th></th>\n",
       "      <th>Name</th>\n",
       "      <th>ID</th>\n",
       "      <th>geometry</th>\n",
       "      <th>Place</th>\n",
       "      <th>dist</th>\n",
       "    </tr>\n",
       "  </thead>\n",
       "  <tbody>\n",
       "    <tr>\n",
       "      <th>0</th>\n",
       "      <td>John</td>\n",
       "      <td>1</td>\n",
       "      <td>POINT (1.00000 1.00000)</td>\n",
       "      <td>Work</td>\n",
       "      <td>99.000000</td>\n",
       "    </tr>\n",
       "    <tr>\n",
       "      <th>1</th>\n",
       "      <td>Smith</td>\n",
       "      <td>1</td>\n",
       "      <td>POINT (2.00000 2.00000)</td>\n",
       "      <td>Work</td>\n",
       "      <td>98.005102</td>\n",
       "    </tr>\n",
       "    <tr>\n",
       "      <th>2</th>\n",
       "      <td>Soap</td>\n",
       "      <td>1</td>\n",
       "      <td>POINT (0.00000 2.00000)</td>\n",
       "      <td>Work</td>\n",
       "      <td>100.005000</td>\n",
       "    </tr>\n",
       "  </tbody>\n",
       "</table>\n",
       "</div>"
      ],
      "text/plain": [
       "    Name  ID                 geometry Place        dist\n",
       "0   John   1  POINT (1.00000 1.00000)  Work   99.000000\n",
       "1  Smith   1  POINT (2.00000 2.00000)  Work   98.005102\n",
       "2   Soap   1  POINT (0.00000 2.00000)  Work  100.005000"
      ]
     },
     "execution_count": 8,
     "metadata": {},
     "output_type": "execute_result"
    }
   ],
   "source": [
    "c"
   ]
  },
  {
   "cell_type": "code",
   "execution_count": null,
   "id": "df7cca74",
   "metadata": {},
   "outputs": [],
   "source": []
  }
 ],
 "metadata": {
  "kernelspec": {
   "display_name": "Python [conda env:geopandas] *",
   "language": "python",
   "name": "conda-env-geopandas-py"
  },
  "language_info": {
   "codemirror_mode": {
    "name": "ipython",
    "version": 3
   },
   "file_extension": ".py",
   "mimetype": "text/x-python",
   "name": "python",
   "nbconvert_exporter": "python",
   "pygments_lexer": "ipython3",
   "version": "3.10.4"
  }
 },
 "nbformat": 4,
 "nbformat_minor": 5
}
